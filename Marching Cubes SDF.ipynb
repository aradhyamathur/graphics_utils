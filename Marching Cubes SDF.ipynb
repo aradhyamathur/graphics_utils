{
 "cells": [
  {
   "cell_type": "markdown",
   "id": "fbe4e2d2",
   "metadata": {},
   "source": [
    "- break bounding box into grid\n",
    "- record every voxel center\n",
    "- compute distance voxel center from mesh\n",
    "- marching on voxel grid"
   ]
  },
  {
   "cell_type": "code",
   "execution_count": 1,
   "id": "faa3cb41",
   "metadata": {},
   "outputs": [],
   "source": [
    "import numpy as np\n",
    "import matplotlib.pyplot as plt\n",
    "import igl\n",
    "from meshplot import plot"
   ]
  },
  {
   "cell_type": "code",
   "execution_count": 2,
   "id": "b5652a8d",
   "metadata": {},
   "outputs": [],
   "source": [
    "def get_cube(x,y,z,delta):\n",
    "#     print(x,y,z,delta)\n",
    "    return np.array([[x+delta, y+delta, z], [x+delta, y, z], [x, y, z], [x, y+delta,z],\\\n",
    "        [x, y+delta, z+delta], [x,y,z+delta], [x+delta, y+delta, z+delta],[x+delta,y,z+delta]])"
   ]
  },
  {
   "cell_type": "code",
   "execution_count": 3,
   "id": "bc7d5e27",
   "metadata": {},
   "outputs": [],
   "source": [
    "def create_grid( bounds, delta=1):\n",
    "    min_bounds = bounds[0]\n",
    "    max_bounds = bounds[1]\n",
    "    x_b = round((max_bounds[0] - min_bounds[0])/delta+1)\n",
    "    y_b = round((max_bounds[1] - min_bounds[1])/delta+1)\n",
    "    z_b = round((max_bounds[2] - min_bounds[2])/delta+1)\n",
    "    grid_cells = []\n",
    "    centers = []\n",
    "    points  = []\n",
    "\n",
    "#     print(bounds)\n",
    "    for i in range(x_b-1):\n",
    "        for j in range(y_b-1):\n",
    "            for k in range(z_b-1) :\n",
    "                x = min_bounds[0] + i * delta\n",
    "                y = min_bounds[1] + j * delta\n",
    "                z = min_bounds[2] + k * delta\n",
    "                points.append([x,y,z])\n",
    "                grid_cube = get_cube(x,y,z,delta)\n",
    "                center = grid_cube.mean(0)\n",
    "                centers.append(center)\n",
    "                grid_cells.append(grid_cube)\n",
    "    \n",
    "    return np.array(grid_cells), np.array(centers), np.array(points),[x_b-1,y_b-1,z_b-1]"
   ]
  },
  {
   "cell_type": "code",
   "execution_count": 4,
   "id": "27b9558d",
   "metadata": {},
   "outputs": [
    {
     "name": "stdout",
     "output_type": "stream",
     "text": [
      "(27, 8, 3) (27, 3) (27, 3)\n"
     ]
    }
   ],
   "source": [
    "bounds = np.array([[0., 0., 0.], [2.5, 2.5, 2.5]])\n",
    "grid_cells,centers,points,sizes = create_grid(bounds)\n",
    "print(grid_cells.shape, centers.shape, points.shape)"
   ]
  },
  {
   "cell_type": "code",
   "execution_count": 5,
   "id": "ab3a6af3",
   "metadata": {},
   "outputs": [],
   "source": [
    "v,t,f = igl.read_mesh('bunny.mesh')\n",
    "\n",
    "zmin = v[:,-1].min() #+ 0.1 * v[:,-1].min()\n",
    "zmax = v[:,-1].max() #+ 0.1 * v[:,-1].max()\n",
    "ymin = v[:,-2].min() #+ 0.1 * v[:,-2].min() \n",
    "ymax = v[:, -2].max() #+ 0.1 * v[:, -2].max() \n",
    "xmin = v[:, -3].min() #+ 0.1 * v[:, -3].min() \n",
    "xmax = v[:, -3].max() #+ v[:, -3].max()"
   ]
  },
  {
   "cell_type": "code",
   "execution_count": 18,
   "id": "b8006440",
   "metadata": {},
   "outputs": [],
   "source": [
    "bounds = np.array([[xmin, ymin, zmin], [xmax, ymax, zmax]]) # bounds for bunny\n",
    "grid_cells,centers,points,sizes = create_grid(bounds,delta=0.004) #0.004-0.009"
   ]
  },
  {
   "cell_type": "markdown",
   "id": "649b8546",
   "metadata": {},
   "source": [
    "### Signed Distance Field\n",
    "![signed distance](https://encrypted-tbn0.gstatic.com/images?q=tbn:ANd9GcQFzpcjrhR0Qivr-89wvmof4gDN-5ylSXRrSQ&usqp=CAU)"
   ]
  },
  {
   "cell_type": "code",
   "execution_count": 19,
   "id": "8e323f28",
   "metadata": {},
   "outputs": [],
   "source": [
    "d = igl.signed_distance(centers, v, f)"
   ]
  },
  {
   "cell_type": "code",
   "execution_count": 20,
   "id": "355af9d3",
   "metadata": {},
   "outputs": [],
   "source": [
    "c_reshape = d[0].reshape((sizes[0],sizes[1],sizes[2]))"
   ]
  },
  {
   "cell_type": "code",
   "execution_count": 21,
   "id": "530e70b6",
   "metadata": {},
   "outputs": [
    {
     "data": {
      "text/plain": [
       "(39, 39, 30)"
      ]
     },
     "execution_count": 21,
     "metadata": {},
     "output_type": "execute_result"
    }
   ],
   "source": [
    "c_reshape.shape"
   ]
  },
  {
   "cell_type": "code",
   "execution_count": 22,
   "id": "c9635d90",
   "metadata": {
    "scrolled": false
   },
   "outputs": [
    {
     "data": {
      "application/vnd.jupyter.widget-view+json": {
       "model_id": "f6e89553e62a4a0a8a121af4dde0b11f",
       "version_major": 2,
       "version_minor": 0
      },
      "text/plain": [
       "Renderer(camera=PerspectiveCamera(children=(DirectionalLight(color='white', intensity=0.6, position=(-0.016860…"
      ]
     },
     "metadata": {},
     "output_type": "display_data"
    },
    {
     "data": {
      "text/plain": [
       "<matplotlib.image.AxesImage at 0x7f560853f160>"
      ]
     },
     "execution_count": 22,
     "metadata": {},
     "output_type": "execute_result"
    },
    {
     "data": {
      "image/png": "[encoded data removed]",
      "text/plain": [
       "<Figure size 720x720 with 1 Axes>"
      ]
     },
     "metadata": {
      "needs_background": "light"
     },
     "output_type": "display_data"
    }
   ],
   "source": [
    "fig= plt.figure(figsize=(10,10))\n",
    "plot(v,f)\n",
    "plt.imshow(np.rot90(c_reshape[:,:,15]))"
   ]
  },
  {
   "cell_type": "code",
   "execution_count": 23,
   "id": "cd648149",
   "metadata": {},
   "outputs": [],
   "source": [
    "from skimage import measure"
   ]
  },
  {
   "cell_type": "markdown",
   "id": "1be651b9",
   "metadata": {},
   "source": [
    "### Marching Cubes\n",
    "![marching cubes](http://www.cs.utah.edu/~whitaker/sceneRecon/pics/sparse-field4.gif)"
   ]
  },
  {
   "cell_type": "code",
   "execution_count": 24,
   "id": "a82e4334",
   "metadata": {},
   "outputs": [],
   "source": [
    "\n",
    "verts, faces, normals, values = measure.marching_cubes(c_reshape,0)"
   ]
  },
  {
   "cell_type": "code",
   "execution_count": 26,
   "id": "dee650eb",
   "metadata": {},
   "outputs": [
    {
     "data": {
      "application/vnd.jupyter.widget-view+json": {
       "model_id": "8e0f622750c7455f80ace1208ffd0e35",
       "version_major": 2,
       "version_minor": 0
      },
      "text/plain": [
       "Renderer(camera=PerspectiveCamera(children=(DirectionalLight(color='white', intensity=0.6, position=(19.0, 18.…"
      ]
     },
     "metadata": {},
     "output_type": "display_data"
    },
    {
     "data": {
      "text/plain": [
       "<meshplot.Viewer.Viewer at 0x7f55ebed2cf8>"
      ]
     },
     "execution_count": 26,
     "metadata": {},
     "output_type": "execute_result"
    }
   ],
   "source": [
    "plot(verts, faces)"
   ]
  },
  {
   "cell_type": "code",
   "execution_count": null,
   "id": "af1138dc",
   "metadata": {},
   "outputs": [],
   "source": [
    "voxel = 3dconv\n",
    "point clouds = conv1d\n",
    "mesh = geometric deep learning (vertices, adjacency) "
   ]
  }
 ],
 "metadata": {
  "kernelspec": {
   "display_name": "Python 3",
   "language": "python",
   "name": "python3"
  },
  "language_info": {
   "codemirror_mode": {
    "name": "ipython",
    "version": 3
   },
   "file_extension": ".py",
   "mimetype": "text/x-python",
   "name": "python",
   "nbconvert_exporter": "python",
   "pygments_lexer": "ipython3",
   "version": "3.6.13"
  }
 },
 "nbformat": 4,
 "nbformat_minor": 5
}
