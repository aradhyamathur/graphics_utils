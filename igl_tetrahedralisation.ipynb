{
 "cells": [
  {
   "cell_type": "code",
   "execution_count": 1,
   "id": "afaa6676",
   "metadata": {},
   "outputs": [],
   "source": [
    "import igl\n",
    "import scipy as sp\n",
    "import numpy as np\n",
    "from meshplot import plot, subplot, interact\n",
    "# %matplotlib widget\n"
   ]
  },
  {
   "cell_type": "code",
   "execution_count": null,
   "id": "738da85a",
   "metadata": {},
   "outputs": [],
   "source": []
  },
  {
   "cell_type": "code",
   "execution_count": 2,
   "id": "2135da08",
   "metadata": {},
   "outputs": [],
   "source": [
    "v,t, f = igl.read_mesh('./bunny.mesh')"
   ]
  },
  {
   "cell_type": "code",
   "execution_count": 3,
   "id": "42dcef24",
   "metadata": {
    "scrolled": true
   },
   "outputs": [
    {
     "data": {
      "application/vnd.jupyter.widget-view+json": {
       "model_id": "fde71c1b241c419e8b5210a0f18bfd9c",
       "version_major": 2,
       "version_minor": 0
      },
      "text/plain": [
       "Renderer(camera=PerspectiveCamera(children=(DirectionalLight(color='white', intensity=0.6, position=(-0.016860…"
      ]
     },
     "metadata": {},
     "output_type": "display_data"
    },
    {
     "data": {
      "text/plain": [
       "<meshplot.Viewer.Viewer at 0x7f3c68101518>"
      ]
     },
     "execution_count": 3,
     "metadata": {},
     "output_type": "execute_result"
    }
   ],
   "source": [
    "plot(v,f)"
   ]
  },
  {
   "cell_type": "code",
   "execution_count": 4,
   "id": "2bf59797",
   "metadata": {},
   "outputs": [
    {
     "data": {
      "text/plain": [
       "(-0.0619614, 0.0588308)"
      ]
     },
     "execution_count": 4,
     "metadata": {},
     "output_type": "execute_result"
    }
   ],
   "source": [
    "v[:,2].min(), v[:,2].max(), "
   ]
  },
  {
   "cell_type": "code",
   "execution_count": 5,
   "id": "69e5df1e",
   "metadata": {},
   "outputs": [],
   "source": [
    "slice_z = 0.6\n",
    "plane = np.array([0,0,1,-((1-slice_z)*v[:,2].min()+slice_z*v[:,2].max())])\n",
    "# plane = np.array([0,0,1,-((1-slice_z)*(-0.5)+slice_z*1.)])\n",
    "\n",
    "plane_pts = v[:,0] * plane[0] + v[:,1]*plane[1] + v[:,2]*plane[2] + plane[3]\n",
    "\n",
    "# sv, sf, j, bc = igl.marching_tets(vv, tt, vv[:,0], isovalue)"
   ]
  },
  {
   "cell_type": "code",
   "execution_count": 6,
   "id": "f80196e9",
   "metadata": {},
   "outputs": [
    {
     "data": {
      "text/plain": [
       "(5433,)"
      ]
     },
     "execution_count": 6,
     "metadata": {},
     "output_type": "execute_result"
    }
   ],
   "source": [
    "plane_pts.shape"
   ]
  },
  {
   "cell_type": "code",
   "execution_count": 7,
   "id": "057f6547",
   "metadata": {},
   "outputs": [],
   "source": [
    "isovalue = np.mean(v[:,0])"
   ]
  },
  {
   "cell_type": "code",
   "execution_count": 8,
   "id": "f7e79a3d",
   "metadata": {},
   "outputs": [],
   "source": [
    "sv, sf, j, bc = igl.marching_tets(v, t, plane_pts, isovalue)"
   ]
  },
  {
   "cell_type": "code",
   "execution_count": 9,
   "id": "4c9d4904",
   "metadata": {
    "scrolled": false
   },
   "outputs": [
    {
     "data": {
      "application/vnd.jupyter.widget-view+json": {
       "model_id": "c888f0b6b79d45e6a36c732f783aa8ed",
       "version_major": 2,
       "version_minor": 0
      },
      "text/plain": [
       "Renderer(camera=PerspectiveCamera(children=(DirectionalLight(color='white', intensity=0.6, position=(-0.024296…"
      ]
     },
     "metadata": {},
     "output_type": "display_data"
    },
    {
     "data": {
      "text/plain": [
       "1"
      ]
     },
     "execution_count": 9,
     "metadata": {},
     "output_type": "execute_result"
    }
   ],
   "source": [
    "p = plot(sv,sf)\n",
    "p.add_mesh(v,f)"
   ]
  },
  {
   "cell_type": "code",
   "execution_count": 10,
   "id": "cc8b11c1",
   "metadata": {
    "scrolled": true
   },
   "outputs": [],
   "source": [
    "# p = plot(sv, sf, d[0])\n",
    "# p.add_mesh(v,f)\n",
    "# d_ = plot(sv, sf, d[0])\n"
   ]
  },
  {
   "cell_type": "code",
   "execution_count": 11,
   "id": "0a560ede",
   "metadata": {},
   "outputs": [],
   "source": [
    "from ipywidgets import interact, interactive, fixed, interact_manual\n",
    "import ipywidgets as widgets"
   ]
  },
  {
   "cell_type": "code",
   "execution_count": 12,
   "id": "e874552c",
   "metadata": {},
   "outputs": [],
   "source": [
    "def plot_sdf(z):\n",
    "    slice_z = z\n",
    "    plane = np.array([0,0,1,-((1-slice_z)*v[:,2].min()+slice_z*v[:,2].max())])\n",
    "    plane_pts =v[:,0] * plane[0] + v[:,1]*plane[1] + v[:,2]*plane[2] + plane[3]\n",
    "    isovalue = np.mean(v[:,0])\n",
    "    sv, sf, j, bc = igl.marching_tets(v, t, plane_pts, isovalue)\n",
    "    d = igl.signed_distance(sv, v, f)\n",
    "    p = plot(sv, sf, d[0])\n",
    "    p.add_mesh(v,f)\n",
    "    plot(sv, sf, d[0])"
   ]
  },
  {
   "cell_type": "code",
   "execution_count": 13,
   "id": "3937f222",
   "metadata": {},
   "outputs": [
    {
     "data": {
      "application/vnd.jupyter.widget-view+json": {
       "model_id": "80683bcd085d47a6bce883c17410d646",
       "version_major": 2,
       "version_minor": 0
      },
      "text/plain": [
       "interactive(children=(FloatSlider(value=0.5, description='z', max=1.5, min=-0.5), Output()), _dom_classes=('wi…"
      ]
     },
     "metadata": {},
     "output_type": "display_data"
    },
    {
     "data": {
      "text/plain": [
       "<function __main__.plot_sdf(z)>"
      ]
     },
     "execution_count": 13,
     "metadata": {},
     "output_type": "execute_result"
    }
   ],
   "source": [
    "interact(plot_sdf, z=0.5)"
   ]
  },
  {
   "cell_type": "markdown",
   "id": "78ced35f",
   "metadata": {},
   "source": [
    "### Create and view plane"
   ]
  },
  {
   "cell_type": "code",
   "execution_count": 14,
   "id": "7bfb68ba",
   "metadata": {
    "scrolled": true
   },
   "outputs": [
    {
     "data": {
      "application/vnd.jupyter.widget-view+json": {
       "model_id": "55d0092ef88f41c69dab2e09c9ba020c",
       "version_major": 2,
       "version_minor": 0
      },
      "text/plain": [
       "Renderer(camera=PerspectiveCamera(children=(DirectionalLight(color='white', intensity=0.6, position=(-0.050000…"
      ]
     },
     "metadata": {},
     "output_type": "display_data"
    },
    {
     "data": {
      "text/plain": [
       "1"
      ]
     },
     "execution_count": 14,
     "metadata": {},
     "output_type": "execute_result"
    }
   ],
   "source": [
    "V = np.array([\n",
    "    [0., 0, 0],\n",
    "    [-0.1, 0, 0],\n",
    "    [-.1, .2, 0],\n",
    "    [0, .2, 0]\n",
    "])\n",
    "\n",
    "F = np.array([\n",
    "    [0, 1, 3],\n",
    "    [1, 3, 2]\n",
    "])\n",
    "\n",
    "p = plot(V, F)\n",
    "p.add_mesh(v,f)"
   ]
  },
  {
   "cell_type": "markdown",
   "id": "420c8d26",
   "metadata": {},
   "source": [
    "## Compute bounding box"
   ]
  },
  {
   "cell_type": "code",
   "execution_count": 15,
   "id": "01c4bc4f",
   "metadata": {},
   "outputs": [],
   "source": [
    "v1 = 0\n",
    "v2 = 1\n",
    "v3 = 2\n",
    "v4 = 3\n",
    "v5 = 4\n",
    "v6 = 5\n",
    "v7 = 6\n",
    "v8 = 7"
   ]
  },
  {
   "cell_type": "code",
   "execution_count": 16,
   "id": "1aaf3122",
   "metadata": {},
   "outputs": [],
   "source": [
    "bbox_tri = np.array([[v1, v2, v5], [v2, v5, v6], [v2, v3, v6], \\\n",
    "                [v6, v7, v3], [v3, v7, v8], [v8, v4, v3], [v4, v8, v5],\\\n",
    "               [v5, v4, v1], [v5, v6, v8], [v8, v6, v7], [v2, v4, v1], [v2, v4, v3]\n",
    "               ])"
   ]
  },
  {
   "cell_type": "code",
   "execution_count": 17,
   "id": "a4283a26",
   "metadata": {},
   "outputs": [],
   "source": [
    "zmin = v[:,-1].min() + 0.1 * v[:,-1].min()\n",
    "zmax = v[:,-1].max() + 0.1 * v[:,-1].max()\n",
    "ymin = v[:,-2].min() + 0.1 * v[:,-2].min() \n",
    "ymax = v[:, -2].max() + 0.1 * v[:, -2].max() \n",
    "xmin = v[:, -3].min() + 0.1 * v[:, -3].min() \n",
    "xmax = v[:, -3].max() + v[:, -3].max()\n",
    " "
   ]
  },
  {
   "cell_type": "code",
   "execution_count": 18,
   "id": "7d385b10",
   "metadata": {},
   "outputs": [],
   "source": [
    "bbox_verts = np.array([[xmin, ymin, zmax],[xmax,ymin,zmax],[xmax, ymin, zmin],\\\n",
    "              [xmin, ymin, zmin], [xmin, ymax, zmax], [xmax, ymax, zmax],\\\n",
    "              [xmax, ymax, zmin], [xmin, ymax, zmin]])"
   ]
  },
  {
   "cell_type": "code",
   "execution_count": 48,
   "id": "a335753d",
   "metadata": {},
   "outputs": [],
   "source": [
    "m = np.min(v, axis=0) - 0.1 * (np.max(v, axis=0) - np.min(v, axis=0))\n",
    "ma = np.max(v, axis=0) + 0.1 * (np.max(v, axis=0) - np.min(v, axis=0))\n",
    "\n",
    "# Corners of the bounding box\n",
    "v_box = np.array([[m[0], m[1], m[2]], [ma[0], m[1], m[2]], [ma[0], ma[1], m[2]], [m[0], ma[1], m[2]],\n",
    "                  [m[0], m[1], ma[2]], [ma[0], m[1], ma[2]], [ma[0], ma[1], ma[2]], [m[0], ma[1], ma[2]]])\n",
    "\n",
    "# Edges of the bounding box\n",
    "f_box = np.array([[0, 1], [1, 2], [2, 3], [3, 0], [4, 5], [5, 6], [6, 7], \n",
    "                  [7, 4], [0, 4], [1, 5], [2, 6], [7, 3]], dtype=np.int)"
   ]
  },
  {
   "cell_type": "code",
   "execution_count": 49,
   "id": "288c2aa1",
   "metadata": {},
   "outputs": [
    {
     "data": {
      "application/vnd.jupyter.widget-view+json": {
       "model_id": "afc2da430a5b4fc2a33c0d2a746d2d94",
       "version_major": 2,
       "version_minor": 0
      },
      "text/plain": [
       "Renderer(camera=PerspectiveCamera(children=(DirectionalLight(color='white', intensity=0.6, position=(-0.016860…"
      ]
     },
     "metadata": {},
     "output_type": "display_data"
    },
    {
     "data": {
      "text/plain": [
       "1"
      ]
     },
     "execution_count": 49,
     "metadata": {},
     "output_type": "execute_result"
    }
   ],
   "source": [
    "# p = plot(bbox_verts, bbox_tri)\n",
    "p = plot(v,f)\n",
    "p.add_edges(v_box, f_box, shading={'line_color':'red'})"
   ]
  },
  {
   "cell_type": "markdown",
   "id": "623152fc",
   "metadata": {},
   "source": [
    "### Tetrahedralisation"
   ]
  },
  {
   "cell_type": "markdown",
   "id": "3e204916",
   "metadata": {},
   "source": [
    "![teta cow](http://groups.csail.mit.edu/graphics/classes/6.838/F01/lectures/PolygonTriangulation/tetrahedralization.gif)\n",
    "![tetrahedra](https://www.mathsisfun.com/geometry/images/tetrahedron-cube.svg)"
   ]
  },
  {
   "cell_type": "code",
   "execution_count": 21,
   "id": "d09f0872",
   "metadata": {},
   "outputs": [],
   "source": [
    "v_extended = np.concatenate([v, bbox_verts], 0)"
   ]
  },
  {
   "cell_type": "code",
   "execution_count": 22,
   "id": "bf6ed763",
   "metadata": {},
   "outputs": [],
   "source": [
    "f_extended = np.concatenate([f, bbox_tri+len(v)], 0)"
   ]
  },
  {
   "cell_type": "code",
   "execution_count": 23,
   "id": "e7bf482e",
   "metadata": {},
   "outputs": [
    {
     "data": {
      "text/plain": [
       "((6978, 3), (5441, 3))"
      ]
     },
     "execution_count": 23,
     "metadata": {},
     "output_type": "execute_result"
    }
   ],
   "source": [
    "f_extended.shape,v_extended.shape"
   ]
  },
  {
   "cell_type": "code",
   "execution_count": 24,
   "id": "f311304b",
   "metadata": {
    "scrolled": false
   },
   "outputs": [
    {
     "data": {
      "application/vnd.jupyter.widget-view+json": {
       "model_id": "28a48a3bb6344083b53e518b3fa9a26f",
       "version_major": 2,
       "version_minor": 0
      },
      "text/plain": [
       "Renderer(camera=PerspectiveCamera(children=(DirectionalLight(color='white', intensity=0.6, position=(0.0089205…"
      ]
     },
     "metadata": {},
     "output_type": "display_data"
    },
    {
     "data": {
      "text/plain": [
       "<meshplot.Viewer.Viewer at 0x7f3c0b346c88>"
      ]
     },
     "execution_count": 24,
     "metadata": {},
     "output_type": "execute_result"
    }
   ],
   "source": [
    "plot(v_extended, f_extended)"
   ]
  },
  {
   "cell_type": "code",
   "execution_count": 25,
   "id": "fa44a6d9",
   "metadata": {},
   "outputs": [],
   "source": [
    "import trimesh"
   ]
  },
  {
   "cell_type": "code",
   "execution_count": 26,
   "id": "e0dc691e",
   "metadata": {},
   "outputs": [],
   "source": [
    "mesh = trimesh.Trimesh(v, f)"
   ]
  },
  {
   "cell_type": "code",
   "execution_count": 27,
   "id": "17659fc1",
   "metadata": {
    "scrolled": false
   },
   "outputs": [],
   "source": [
    "# mesh.export('./bunny_bounded.obj')"
   ]
  },
  {
   "cell_type": "code",
   "execution_count": 28,
   "id": "b318789d",
   "metadata": {},
   "outputs": [
    {
     "data": {
      "application/vnd.jupyter.widget-view+json": {
       "model_id": "c7d2308028854d87bef421f214e0d0b7",
       "version_major": 2,
       "version_minor": 0
      },
      "text/plain": [
       "Renderer(camera=PerspectiveCamera(children=(DirectionalLight(color='white', intensity=0.6, position=(0.0089205…"
      ]
     },
     "metadata": {},
     "output_type": "display_data"
    },
    {
     "data": {
      "text/plain": [
       "<meshplot.Viewer.Viewer at 0x7f3c4e0d5320>"
      ]
     },
     "execution_count": 28,
     "metadata": {},
     "output_type": "execute_result"
    }
   ],
   "source": [
    "plot(v_extended, f_extended)"
   ]
  },
  {
   "cell_type": "code",
   "execution_count": 29,
   "id": "cac724b6",
   "metadata": {},
   "outputs": [
    {
     "data": {
      "application/vnd.jupyter.widget-view+json": {
       "model_id": "5da1d7891a804fc383b7e56e6806989d",
       "version_major": 2,
       "version_minor": 0
      },
      "text/plain": [
       "Renderer(camera=PerspectiveCamera(children=(DirectionalLight(color='white', intensity=0.6, position=(0.0089205…"
      ]
     },
     "metadata": {},
     "output_type": "display_data"
    },
    {
     "data": {
      "text/plain": [
       "<meshplot.Viewer.Viewer at 0x7f3c4e0d5fd0>"
      ]
     },
     "execution_count": 29,
     "metadata": {},
     "output_type": "execute_result"
    }
   ],
   "source": [
    "plot(bbox_verts, bbox_tri)"
   ]
  },
  {
   "cell_type": "code",
   "execution_count": 30,
   "id": "b9ba626e",
   "metadata": {},
   "outputs": [],
   "source": [
    "new_v = np.concatenate([bbox_verts, v], 0)"
   ]
  },
  {
   "cell_type": "code",
   "execution_count": 31,
   "id": "ad091243",
   "metadata": {},
   "outputs": [],
   "source": [
    "new_f = np.concatenate([bbox_tri, f], 0)"
   ]
  },
  {
   "cell_type": "code",
   "execution_count": 32,
   "id": "0811a3bd",
   "metadata": {},
   "outputs": [],
   "source": [
    "new_f_ = np.zeros_like(new_f)\n",
    "new_f_[len(bbox_tri):] = f"
   ]
  },
  {
   "cell_type": "code",
   "execution_count": 33,
   "id": "aaf171aa",
   "metadata": {},
   "outputs": [],
   "source": [
    "new_f_[:len(bbox_tri),0] = bbox_tri[:,0]\n",
    "new_f_[:len(bbox_tri),2] = bbox_tri[:,2]\n",
    "new_f_[:len(bbox_tri),1] = bbox_tri[:,1]\n"
   ]
  },
  {
   "cell_type": "code",
   "execution_count": 34,
   "id": "6c0f83a3",
   "metadata": {},
   "outputs": [
    {
     "data": {
      "text/plain": [
       "(6978, 3)"
      ]
     },
     "execution_count": 34,
     "metadata": {},
     "output_type": "execute_result"
    }
   ],
   "source": [
    "new_f.shape"
   ]
  },
  {
   "cell_type": "code",
   "execution_count": 50,
   "id": "1e3589a9",
   "metadata": {},
   "outputs": [],
   "source": [
    "\n",
    "v_new = np.concatenate([bbox_verts, v], axis=0)\n",
    "f_new = np.concatenate([bbox_tri, f+len(bbox_verts)], axis=0)\n"
   ]
  },
  {
   "cell_type": "code",
   "execution_count": 52,
   "id": "a865b65a",
   "metadata": {
    "scrolled": true
   },
   "outputs": [],
   "source": [
    "import tetgen\n",
    "\n",
    "tet = tetgen.TetGen(v_extended, f_extended)\n"
   ]
  },
  {
   "cell_type": "markdown",
   "id": "64f8507c",
   "metadata": {},
   "source": [
    "Non-Manifold\n",
    "![nonmanifold](https://lh3.googleusercontent.com/proxy/gS-vkxj4oQcidwtIGjU3T2rRTBfTeP6RAOv8wKuDFzCI3HAd5zRGf0j-mevk2XzOHQJwliN_0W__tc383Y53RV6xfYy3)"
   ]
  },
  {
   "cell_type": "code",
   "execution_count": 36,
   "id": "de8ac446",
   "metadata": {},
   "outputs": [],
   "source": [
    "tet.make_manifold()\n"
   ]
  },
  {
   "cell_type": "code",
   "execution_count": 37,
   "id": "67ea6caa",
   "metadata": {},
   "outputs": [],
   "source": [
    "vv, tt = tet.tetrahedralize(order=1, mindihedral=20.0, minratio=1, steinerleft=1000)\n"
   ]
  },
  {
   "cell_type": "code",
   "execution_count": 38,
   "id": "d4b4823f",
   "metadata": {},
   "outputs": [],
   "source": [
    "grid = tet.grid\n"
   ]
  },
  {
   "cell_type": "code",
   "execution_count": 39,
   "id": "cc300b72",
   "metadata": {},
   "outputs": [
    {
     "data": {
      "text/plain": [
       "((16691, 4), (4485, 3))"
      ]
     },
     "execution_count": 39,
     "metadata": {},
     "output_type": "execute_result"
    }
   ],
   "source": [
    "tt.shape,vv.shape"
   ]
  },
  {
   "cell_type": "code",
   "execution_count": 40,
   "id": "3638fcb1",
   "metadata": {},
   "outputs": [
    {
     "data": {
      "text/html": [
       "\n",
       "<table>\n",
       "<tr><th>UnstructuredGrid</th><th>Information</th></tr>\n",
       "<tr><td>N Cells</td><td>16691</td></tr>\n",
       "<tr><td>N Points</td><td>4485</td></tr>\n",
       "<tr><td>X Bounds</td><td>-9.476e-02, 6.104e-02</td></tr>\n",
       "<tr><td>Y Bounds</td><td>3.299e-02, 1.874e-01</td></tr>\n",
       "<tr><td>Z Bounds</td><td>-6.196e-02, 5.883e-02</td></tr>\n",
       "<tr><td>N Arrays</td><td>0</td></tr>\n",
       "</table>\n",
       "\n"
      ],
      "text/plain": [
       "UnstructuredGrid (0x7f3be4c70588)\n",
       "  N Cells:\t16691\n",
       "  N Points:\t4485\n",
       "  X Bounds:\t-9.476e-02, 6.104e-02\n",
       "  Y Bounds:\t3.299e-02, 1.874e-01\n",
       "  Z Bounds:\t-6.196e-02, 5.883e-02\n",
       "  N Arrays:\t0"
      ]
     },
     "execution_count": 40,
     "metadata": {},
     "output_type": "execute_result"
    }
   ],
   "source": [
    "grid"
   ]
  },
  {
   "cell_type": "code",
   "execution_count": 41,
   "id": "a2951f6c",
   "metadata": {},
   "outputs": [
    {
     "data": {
      "application/vnd.jupyter.widget-view+json": {
       "model_id": "169e727e50044463a33283be6b0872be",
       "version_major": 2,
       "version_minor": 0
      },
      "text/plain": [
       "ViewInteractiveWidget(height=768, layout=Layout(height='auto', width='100%'), width=1024)"
      ]
     },
     "metadata": {},
     "output_type": "display_data"
    }
   ],
   "source": [
    "grid.plot()"
   ]
  },
  {
   "cell_type": "code",
   "execution_count": 53,
   "id": "60395516",
   "metadata": {},
   "outputs": [],
   "source": [
    "import pyvista as pv"
   ]
  },
  {
   "cell_type": "code",
   "execution_count": 54,
   "id": "38dd389a",
   "metadata": {},
   "outputs": [],
   "source": [
    "pv.set_plot_theme('document')"
   ]
  },
  {
   "cell_type": "code",
   "execution_count": 55,
   "id": "8a287a0b",
   "metadata": {},
   "outputs": [],
   "source": [
    "bbox_center = np.array([(bbox_verts[:,0].min() + bbox_verts[:,0].max())/2, (bbox_verts[:,1].min() + bbox_verts[:,1].max())/2, (bbox_verts[:,2].min() + bbox_verts[:,2].max())/2])"
   ]
  },
  {
   "cell_type": "code",
   "execution_count": 56,
   "id": "db969549",
   "metadata": {},
   "outputs": [],
   "source": [
    "import pyvista as pv"
   ]
  },
  {
   "cell_type": "code",
   "execution_count": 46,
   "id": "51aa0bfe",
   "metadata": {},
   "outputs": [
    {
     "name": "stdout",
     "output_type": "stream",
     "text": [
      "(16691, 3)\n"
     ]
    },
    {
     "data": {
      "application/vnd.jupyter.widget-view+json": {
       "model_id": "f210a61077c14174b062559e500c3098",
       "version_major": 2,
       "version_minor": 0
      },
      "text/plain": [
       "ViewInteractiveWidget(height=768, layout=Layout(height='auto', width='100%'), width=1024)"
      ]
     },
     "metadata": {},
     "output_type": "display_data"
    }
   ],
   "source": [
    "cells = grid.cells.reshape(-1, 5)[:, 1:]\n",
    "cell_center = grid.points[cells].mean(1)  \n",
    "print(cell_center.shape)\n",
    "# extract cells below the 0 xy plane\n",
    "mask = cell_center[:, 0] < bbox_center[0] \n",
    "cell_ind = mask.nonzero()[0]\n",
    "subgrid = grid.extract_cells(cell_ind)\n",
    "plotter = pv.Plotter()\n",
    "plotter.add_mesh(subgrid, 'lightgrey', lighting=True, show_edges=True)\n",
    "# plotter.add_mesh(sphere, 'r', 'wireframe')\n",
    "plotter.add_legend([[' Input Mesh ', 'r'],\n",
    "                    [' Tesselated Mesh ', 'black']])\n",
    "plotter.show()"
   ]
  },
  {
   "cell_type": "code",
   "execution_count": 51,
   "id": "57051e84",
   "metadata": {},
   "outputs": [],
   "source": [
    "# selected_tets = tt[cell_ind]"
   ]
  },
  {
   "cell_type": "code",
   "execution_count": 54,
   "id": "69913043",
   "metadata": {},
   "outputs": [],
   "source": [
    "# selected_verts = []\n",
    "# selected_colors = []\n",
    "# for t_ in selected_tets:\n",
    "#     for vert in t_:\n",
    "#         selected_verts.append(vv[vert])\n",
    "#         selected_colors.append(d[0][vert])"
   ]
  },
  {
   "cell_type": "code",
   "execution_count": 55,
   "id": "90fbfa50",
   "metadata": {},
   "outputs": [],
   "source": [
    "# selected_verts = np.array(selected_verts)\n",
    "# selected_colors = np.array(selected_colors)"
   ]
  },
  {
   "cell_type": "code",
   "execution_count": 56,
   "id": "7668e2f3",
   "metadata": {},
   "outputs": [],
   "source": [
    "# d[0].shape, vv.shape"
   ]
  },
  {
   "cell_type": "code",
   "execution_count": 57,
   "id": "2e2ec9fe",
   "metadata": {},
   "outputs": [],
   "source": [
    "# selected_verts.shape"
   ]
  },
  {
   "cell_type": "code",
   "execution_count": 47,
   "id": "230b27ef",
   "metadata": {
    "scrolled": false
   },
   "outputs": [
    {
     "data": {
      "application/vnd.jupyter.widget-view+json": {
       "model_id": "211ceb36681849858c5d093c8c0c0701",
       "version_major": 2,
       "version_minor": 0
      },
      "text/plain": [
       "ViewInteractiveWidget(height=768, layout=Layout(height='auto', width='100%'), width=1024)"
      ]
     },
     "metadata": {},
     "output_type": "display_data"
    }
   ],
   "source": [
    "cells = grid.cells.reshape(-1, 5)[:, 1:]\n",
    "cell_center = grid.points[cells].mean(1)\n",
    "\n",
    "# extract cells below the 0 xy plane\n",
    "mask = cell_center[:, 2] < 0\n",
    "cell_ind = mask.nonzero()[0]\n",
    "selected_tets = tt[cell_ind]\n",
    "subgrid = grid.extract_cells(cell_ind)\n",
    "\n",
    "# advanced plotting\n",
    "# s_col = selected_colors[cell_ind]\n",
    "plotter = pv.Plotter()\n",
    "plotter.add_mesh(subgrid,   show_edges=True)\n",
    "# plotter.add_mesh(sphere, 'r', 'wireframe')\n",
    "plotter.add_legend([[' Input Mesh ', 'r'],\n",
    "                    [' Tesselated Mesh ', 'black']])\n",
    "plotter.show()"
   ]
  },
  {
   "cell_type": "code",
   "execution_count": null,
   "id": "76bdb4d3",
   "metadata": {},
   "outputs": [],
   "source": []
  }
 ],
 "metadata": {
  "kernelspec": {
   "display_name": "Python 3",
   "language": "python",
   "name": "python3"
  },
  "language_info": {
   "codemirror_mode": {
    "name": "ipython",
    "version": 3
   },
   "file_extension": ".py",
   "mimetype": "text/x-python",
   "name": "python",
   "nbconvert_exporter": "python",
   "pygments_lexer": "ipython3",
   "version": "3.6.13"
  }
 },
 "nbformat": 4,
 "nbformat_minor": 5
}
