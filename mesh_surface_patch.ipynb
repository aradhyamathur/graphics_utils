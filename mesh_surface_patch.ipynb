{
 "cells": [
  {
   "cell_type": "code",
   "execution_count": 1,
   "id": "f5df3fc0",
   "metadata": {},
   "outputs": [],
   "source": [
    "import trimesh"
   ]
  },
  {
   "cell_type": "code",
   "execution_count": 2,
   "id": "c8f80426",
   "metadata": {},
   "outputs": [],
   "source": [
    "from meshplot import plot"
   ]
  },
  {
   "cell_type": "code",
   "execution_count": 3,
   "id": "a5c1c774",
   "metadata": {},
   "outputs": [],
   "source": [
    "mesh = trimesh.load_mesh('./model_manifold.obj')"
   ]
  },
  {
   "cell_type": "code",
   "execution_count": 4,
   "id": "7d10de4a",
   "metadata": {},
   "outputs": [
    {
     "name": "stderr",
     "output_type": "stream",
     "text": [
      "/home/thor/anaconda3/envs/iglenv/lib/python3.6/site-packages/traittypes/traittypes.py:101: UserWarning: Given trait value dtype \"float32\" does not match required type \"float64\". A coerced copy has been created.\n",
      "  np.dtype(self.dtype).name))\n"
     ]
    },
    {
     "data": {
      "application/vnd.jupyter.widget-view+json": {
       "model_id": "d0d7a4e425fc4e45b9953172e532b077",
       "version_major": 2,
       "version_minor": 0
      },
      "text/plain": [
       "Renderer(camera=PerspectiveCamera(children=(DirectionalLight(color='white', intensity=0.6, position=(1.5497207…"
      ]
     },
     "metadata": {},
     "output_type": "display_data"
    },
    {
     "data": {
      "text/plain": [
       "<meshplot.Viewer.Viewer at 0x7f40912363c8>"
      ]
     },
     "execution_count": 4,
     "metadata": {},
     "output_type": "execute_result"
    }
   ],
   "source": [
    "plot(mesh.vertices)"
   ]
  },
  {
   "cell_type": "code",
   "execution_count": 5,
   "id": "011c3d84",
   "metadata": {},
   "outputs": [
    {
     "data": {
      "text/plain": [
       "(32900, 3)"
      ]
     },
     "execution_count": 5,
     "metadata": {},
     "output_type": "execute_result"
    }
   ],
   "source": [
    "mesh.vertices.shape"
   ]
  },
  {
   "cell_type": "code",
   "execution_count": 6,
   "id": "67bf2c0e",
   "metadata": {},
   "outputs": [],
   "source": [
    "import igl"
   ]
  },
  {
   "cell_type": "code",
   "execution_count": 7,
   "id": "ff677b90",
   "metadata": {},
   "outputs": [
    {
     "name": "stdout",
     "output_type": "stream",
     "text": [
      "(728, 3)\n"
     ]
    }
   ],
   "source": [
    "_,v_,f_,_,_ = igl.decimate(mesh.vertices,mesh.faces, 1500)\n",
    "print(v_.shape)\n",
    "# v_[:,0] = (v_[:,0] - v_[:,0].min()) / (v_[:,0].max() - v_[:,0].min())\n",
    "# v_[:,1] = (v_[:,1] - v_[:,1].min()) / (v_[:,1].max() - v_[:,1].min())\n",
    "# v_[:,2] = (v_[:,2] - v_[:,2].min()) / (v_[:,2].max() - v_[:,2].min())"
   ]
  },
  {
   "cell_type": "code",
   "execution_count": 8,
   "id": "eefa9c7a",
   "metadata": {},
   "outputs": [],
   "source": [
    "mesh = trimesh.Trimesh(v_,f_)"
   ]
  },
  {
   "cell_type": "code",
   "execution_count": 9,
   "id": "c9990ac8",
   "metadata": {},
   "outputs": [
    {
     "data": {
      "application/vnd.jupyter.widget-view+json": {
       "model_id": "a9a2e014319b442cb97b82cdd4077181",
       "version_major": 2,
       "version_minor": 0
      },
      "text/plain": [
       "Renderer(camera=PerspectiveCamera(children=(DirectionalLight(color='white', intensity=0.6, position=(0.0028013…"
      ]
     },
     "metadata": {},
     "output_type": "display_data"
    },
    {
     "data": {
      "text/plain": [
       "<meshplot.Viewer.Viewer at 0x7f407de78710>"
      ]
     },
     "execution_count": 9,
     "metadata": {},
     "output_type": "execute_result"
    }
   ],
   "source": [
    "plot(mesh.vertices)"
   ]
  },
  {
   "cell_type": "code",
   "execution_count": 10,
   "id": "5648d0cb",
   "metadata": {},
   "outputs": [],
   "source": [
    "import numpy as np"
   ]
  },
  {
   "cell_type": "code",
   "execution_count": 11,
   "id": "6e264903",
   "metadata": {},
   "outputs": [],
   "source": [
    "normal = np.random.randn(3)\n",
    "normal /= np.linalg.norm(normal)\n",
    "point = np.random.randn(3)"
   ]
  },
  {
   "cell_type": "code",
   "execution_count": 44,
   "id": "3e2eda2d",
   "metadata": {},
   "outputs": [
    {
     "name": "stdout",
     "output_type": "stream",
     "text": [
      "Requirement already satisfied: triangle in /home/thor/anaconda3/envs/iglenv/lib/python3.6/site-packages (20200424)\r\n",
      "Requirement already satisfied: numpy in /home/thor/anaconda3/envs/iglenv/lib/python3.6/site-packages (from triangle) (1.19.4)\r\n"
     ]
    }
   ],
   "source": [
    "!pip install triangle"
   ]
  },
  {
   "cell_type": "code",
   "execution_count": 12,
   "id": "9d367f4d",
   "metadata": {},
   "outputs": [],
   "source": [
    "bbox_mesh = trimesh.Trimesh()"
   ]
  },
  {
   "cell_type": "code",
   "execution_count": 13,
   "id": "1bf094ed",
   "metadata": {},
   "outputs": [],
   "source": [
    "def generate_box_mesh(v):\n",
    "    v1 = 0\n",
    "    v2 = 1\n",
    "    v3 = 2\n",
    "    v4 = 3\n",
    "    v5 = 4\n",
    "    v6 = 5\n",
    "    v7 = 6\n",
    "    v8 = 7\n",
    "\n",
    "    bbox_tri = np.array([[v1, v2, v5], [v2, v5, v6], [v2, v3, v6], \\\n",
    "                    [v6, v7, v3], [v3, v7, v8], [v8, v4, v3], [v4, v8, v5],\\\n",
    "                   [v5, v4, v1], [v5, v6, v8], [v8, v6, v7], [v2, v4, v1], [v2, v4, v3]\n",
    "                   ])\n",
    "\n",
    "    zmin = v[:,-1].min() + 0.1 * v[:,-1].min()\n",
    "    zmax = v[:,-1].max() + 0.1 * v[:,-1].max()\n",
    "    ymin = v[:,-2].min() + 0.1 * v[:,-2].min() \n",
    "    ymax = v[:, -2].max() + 0.1 * v[:, -2].max() \n",
    "    xmin = v[:, -3].min() + 0.1 * v[:, -3].min() \n",
    "    xmax = v[:, -3].max() + v[:, -3].max()\n",
    "\n",
    "    bbox_verts = np.array([[xmin, ymin, zmax],[xmax,ymin,zmax],[xmax, ymin, zmin],\\\n",
    "                  [xmin, ymin, zmin], [xmin, ymax, zmax], [xmax, ymax, zmax],\\\n",
    "                  [xmax, ymax, zmin], [xmin, ymax, zmin]])\n",
    "    \n",
    "    return bbox_verts, bbox_tri"
   ]
  },
  {
   "cell_type": "code",
   "execution_count": 14,
   "id": "68abd641",
   "metadata": {},
   "outputs": [],
   "source": [
    "bbox_verts, bbox_tri = generate_box_mesh(mesh.vertices)\n",
    "\n",
    "bbox_mesh = trimesh.Trimesh(bbox_verts, bbox_tri)"
   ]
  },
  {
   "cell_type": "code",
   "execution_count": 15,
   "id": "7d3705f4",
   "metadata": {},
   "outputs": [],
   "source": [
    "from meshplot import plot"
   ]
  },
  {
   "cell_type": "code",
   "execution_count": 16,
   "id": "4755e982",
   "metadata": {
    "scrolled": false
   },
   "outputs": [
    {
     "name": "stdout",
     "output_type": "stream",
     "text": [
      "(48, 2, 3)\n"
     ]
    },
    {
     "data": {
      "application/vnd.jupyter.widget-view+json": {
       "model_id": "6d2a0451c57448ae945e51df3ed844f6",
       "version_major": 2,
       "version_minor": 0
      },
      "text/plain": [
       "Renderer(camera=PerspectiveCamera(children=(DirectionalLight(color='white', intensity=0.6, position=(0.0028013…"
      ]
     },
     "metadata": {},
     "output_type": "display_data"
    },
    {
     "data": {
      "text/plain": [
       "1"
      ]
     },
     "execution_count": 16,
     "metadata": {},
     "output_type": "execute_result"
    }
   ],
   "source": [
    "\n",
    "normal = np.random.randn(3)\n",
    "normal /= np.linalg.norm(normal)\n",
    "point = np.random.randn(3)\n",
    "\n",
    "point = np.array([-0.54905429,  0.14446151, -0.16177154])\n",
    "normal = np.array([-0.19714132, -0.87347182,  0.44517669])\n",
    "polyline, triangles_edge = trimesh.intersections.mesh_plane(mesh, \n",
    "                                                           plane_origin= point, \n",
    "                                                           plane_normal= normal, \n",
    "                                                           return_faces=True)\n",
    "\n",
    "print(polyline.shape)\n",
    "m = plot(mesh.vertices)\n",
    "# m.add_mesh(bbox_verts, bbox_tri)\n",
    "m.add_points(polyline.reshape(-1,3), c='blue')"
   ]
  },
  {
   "cell_type": "code",
   "execution_count": 17,
   "id": "5890415b",
   "metadata": {},
   "outputs": [
    {
     "data": {
      "text/plain": [
       "(array([-0.54905429,  0.14446151, -0.16177154]),\n",
       " array([-0.19714132, -0.87347182,  0.44517669]))"
      ]
     },
     "execution_count": 17,
     "metadata": {},
     "output_type": "execute_result"
    }
   ],
   "source": [
    "point,normal\n"
   ]
  },
  {
   "cell_type": "code",
   "execution_count": 18,
   "id": "208ad1b5",
   "metadata": {},
   "outputs": [],
   "source": [
    "bbox_mesh = trimesh.Trimesh()\n",
    "bbox_mesh.vertices = bbox_verts\n",
    "bbox_mesh.faces  = bbox_tri"
   ]
  },
  {
   "cell_type": "code",
   "execution_count": 19,
   "id": "e897714b",
   "metadata": {},
   "outputs": [],
   "source": [
    "# def unordered_to_triangles(points):\n",
    "#     triangles = [[points[0], points[1], points[2]], [points[1], points[2],points[3]]]\n",
    "#     return np.array(triangles)\n",
    "\n",
    "def unordered_to_triangles(points):\n",
    "    triangles = [[points[0], points[1], points[2]], [points[0], points[1],points[3]],[points[0], points[1], points[2]], [points[1], points[2],points[3]]]\n",
    "    return np.array(triangles)\n",
    "def unordered_to_triangles(points):\n",
    "    triangles = [[points[0], points[2], points[3]], [points[1], points[2], points[3]]]\n",
    "    return np.array(triangles)"
   ]
  },
  {
   "cell_type": "code",
   "execution_count": 20,
   "id": "3cd279f7",
   "metadata": {},
   "outputs": [],
   "source": [
    "import random"
   ]
  },
  {
   "cell_type": "code",
   "execution_count": 83,
   "id": "f1670a9d",
   "metadata": {},
   "outputs": [],
   "source": [
    "def split_mesh(mesh, plane_normal=None, plane_origin=None):\n",
    "    \"\"\"\n",
    "    Splits mesh by intersection with a plane, \n",
    "    returns closed mesh for positive and negative side of plane \n",
    "    \"\"\"\n",
    "#     plane_normal = (plane_normal)\n",
    "#     plane_normal = plane_normal\n",
    "#     plane_origin = plane_origin\n",
    "    done = False\n",
    "    while not done:\n",
    "        if plane_normal is  None and plane_origin is  None:\n",
    "            plane_normal_ = np.random.randn(3)\n",
    "            plane_normal_ /= np.linalg.norm(plane_normal_)\n",
    "#             plane_origin_ = np.random.randn(3)\n",
    "            plane_origin_ = np.mean(mesh.vertices, 0)\n",
    "#             plane_origin_ = mesh.vertices[random.randint(0, len(mesh.vertices)-1)]\n",
    "        else:\n",
    "            plane_normal_ = plane_normal\n",
    "            plane_origin_ = plane_origin\n",
    "        polyline, triangles_edge = trimesh.intersections.mesh_plane(mesh, \n",
    "                                                           plane_origin= plane_origin_, \n",
    "                                                           plane_normal= plane_normal_, \n",
    "                                                           return_faces=True)\n",
    "        \n",
    "#         print(polyline.shape)\n",
    "        if polyline.shape[0]>0:\n",
    "            print(plane_normal_, plane_origin_)\n",
    "            print(polyline.shape)\n",
    "            done = True\n",
    "            break\n",
    "        elif plane_normal is not None and plane_origin is not None and len(polyline)==0:\n",
    "            print('Plane does not pass')\n",
    "            print(plane_normal_, plane_origin_)\n",
    "         \n",
    "                                                                        \n",
    "            return None, None\n",
    "        \n",
    "    print('found')\n",
    "    plane_normal = plane_normal_\n",
    "    plane_origin = plane_origin_\n",
    "    \n",
    "    vertices_negative = []\n",
    "    vertices_positive = []\n",
    "    for vertex_id, vertex in enumerate(mesh.vertices):\n",
    "        # TODO: add threshold\n",
    "        signed_distance = np.dot(plane_normal, np.subtract(vertex, plane_origin))\n",
    "        if signed_distance < 0:\n",
    "            vertices_negative.append(vertex_id)\n",
    "        else:\n",
    "            vertices_positive.append(vertex_id)\n",
    "    \n",
    "    triangles_negative = []\n",
    "    triangles_positive = []\n",
    "    # For each triangle check how many points on either side of the plane\n",
    "    for triangle in mesh.faces:\n",
    "        triangle_negative_check = [vertex_id in vertices_negative for vertex_id in triangle]\n",
    "        # If all points on the negative side this triangle is not affected\n",
    "        if all(triangle_negative_check):\n",
    "            triangles_negative.append(np.array(mesh.vertices[triangle]))\n",
    "        elif any(triangle_negative_check):\n",
    "            # Get section line for this triangle on edge\n",
    "            section = polyline[np.all(np.isin(mesh.faces[triangles_edge], np.array(triangle)), axis=1)][0]\n",
    "            assert section.shape == (2,3)\n",
    "            # If two points on negative side\n",
    "            if sum(triangle_negative_check) == 2:\n",
    "                vertex_1, vertex_2 = mesh.vertices[triangle[triangle_negative_check]]\n",
    "                \n",
    "                triangles_negative.extend(unordered_to_triangles([section[0], section[1], vertex_1, vertex_2]))\n",
    "                vertex_3 = mesh.vertices[triangle[np.logical_not(triangle_negative_check)]]\n",
    "                triangles_positive.append(np.vstack([section[0], section[1], vertex_3]))\n",
    "            elif sum(triangle_negative_check) == 1:\n",
    "                vertex_3 = mesh.vertices[triangle[triangle_negative_check]]\n",
    "                triangles_negative.append(np.vstack([section[0], section[1], vertex_3]))\n",
    "                vertex_1, vertex_2 = mesh.vertices[triangle[np.logical_not(triangle_negative_check)]]\n",
    "#                 print(section[0], section[1], vertex_1, vertex_2)\n",
    "                triangles_positive.extend(unordered_to_triangles([section[0], section[1], vertex_1, vertex_2]))\n",
    "        # If all points on the positive side this triangle is not affected\n",
    "        else:\n",
    "            triangles_positive.append(np.array(mesh.vertices[triangle]))\n",
    "            \n",
    "    # Get triangulation of the split surface\n",
    "    vertices_splitsurface = []\n",
    "    for a, b in polyline:\n",
    "        for vertex in [a,b]:\n",
    "            if tuple(vertex) not in vertices_splitsurface:\n",
    "                vertices_splitsurface.append(tuple(vertex))\n",
    "\n",
    "    triangles_splitsurface = unordered_to_triangles(vertices_splitsurface)\n",
    "    \n",
    "    # Add triangles of split surface to both the positive and negative side\n",
    "    triangles_negative.extend(triangles_splitsurface)\n",
    "    triangles_positive.extend(triangles_splitsurface)\n",
    "    \n",
    "    print(plane_normal_, plane_origin_)\n",
    "    \n",
    "    return np.array(triangles_positive), np.array(triangles_negative)"
   ]
  },
  {
   "cell_type": "markdown",
   "id": "39089067",
   "metadata": {},
   "source": [
    "### Slice mesh with heuristics"
   ]
  },
  {
   "cell_type": "code",
   "execution_count": 138,
   "id": "763dc10d",
   "metadata": {},
   "outputs": [],
   "source": [
    "def split_mesh(mesh, plane_normal=None, plane_origin=None):\n",
    "    \"\"\"\n",
    "    Splits mesh by intersection with a plane, \n",
    "    returns closed mesh for positive and negative side of plane \n",
    "    \"\"\"\n",
    "#     plane_normal = (plane_normal)\n",
    "#     plane_normal = plane_normal\n",
    "#     plane_origin = plane_origin\n",
    "    done = False\n",
    "    while not done:\n",
    "        if plane_normal is  None and plane_origin is  None:\n",
    "#             plane_normal_ = np.random.randn(3)\n",
    "#             plane_normal_ /= np.linalg.norm(plane_normal_)\n",
    "# #             plane_origin_ = np.random.randn(3)\n",
    "            plane_origin_ = np.mean(mesh.vertices, 0)\n",
    "            idx1 = random.randint(0, pos_mesh.vertices.shape[0]-1)\n",
    "            idx2 = random.randint(0, pos_mesh.vertices.shape[0]-1)\n",
    "            v1 = pos_mesh.vertices[idx1]\n",
    "            v2 = pos_mesh.vertices[idx2]\n",
    "            v_1 = (v1 - v2)/ np.linalg.norm(v1 - v2)\n",
    "            idx1 = random.randint(0, pos_mesh.vertices.shape[0]-1)\n",
    "            idx2 = random.randint(0, pos_mesh.vertices.shape[0]-1)\n",
    "            v1 = pos_mesh.vertices[idx1]\n",
    "            v2 = pos_mesh.vertices[idx2]\n",
    "            v_2 = (v1- v2 )/ np.linalg.norm(v1 - v2)\n",
    "            plane_normal_ = np.cross(v_1, v_2)\n",
    "#             plane_origin_ = mesh.vertices[random.randint(0, len(mesh.vertices)-1)]\n",
    "        else:\n",
    "            plane_normal_ = plane_normal\n",
    "            plane_origin_ = plane_origin\n",
    "        polyline, triangles_edge = trimesh.intersections.mesh_plane(mesh, \n",
    "                                                           plane_origin= plane_origin_, \n",
    "                                                           plane_normal= plane_normal_, \n",
    "                                                           return_faces=True)\n",
    "        \n",
    "#         print(polyline.shape)\n",
    "        if polyline.shape[0]>0:\n",
    "            print(plane_normal_, plane_origin_)\n",
    "            print(polyline.shape)\n",
    "            done = True\n",
    "            break\n",
    "        elif plane_normal is not None and plane_origin is not None and len(polyline)==0:\n",
    "            print('Plane does not pass')\n",
    "            print(plane_normal_, plane_origin_)\n",
    "         \n",
    "                                                                        \n",
    "            return None, None\n",
    "        \n",
    "    print('found')\n",
    "    plane_normal = plane_normal_\n",
    "    plane_origin = plane_origin_\n",
    "    \n",
    "    vertices_negative = []\n",
    "    vertices_positive = []\n",
    "    for vertex_id, vertex in enumerate(mesh.vertices):\n",
    "        # TODO: add threshold\n",
    "        signed_distance = np.dot(plane_normal, np.subtract(vertex, plane_origin))\n",
    "        if signed_distance < 0:\n",
    "            vertices_negative.append(vertex_id)\n",
    "        else:\n",
    "            vertices_positive.append(vertex_id)\n",
    "    \n",
    "    triangles_negative = []\n",
    "    triangles_positive = []\n",
    "    # For each triangle check how many points on either side of the plane\n",
    "    for triangle in mesh.faces:\n",
    "        triangle_negative_check = [vertex_id in vertices_negative for vertex_id in triangle]\n",
    "        # If all points on the negative side this triangle is not affected\n",
    "        if all(triangle_negative_check):\n",
    "            triangles_negative.append(np.array(mesh.vertices[triangle]))\n",
    "        elif any(triangle_negative_check):\n",
    "            # Get section line for this triangle on edge\n",
    "            section = polyline[np.all(np.isin(mesh.faces[triangles_edge], np.array(triangle)), axis=1)][0]\n",
    "            assert section.shape == (2,3)\n",
    "            # If two points on negative side\n",
    "            if sum(triangle_negative_check) == 2:\n",
    "                vertex_1, vertex_2 = mesh.vertices[triangle[triangle_negative_check]]\n",
    "                \n",
    "                triangles_negative.extend(unordered_to_triangles([section[0], section[1], vertex_1, vertex_2]))\n",
    "                vertex_3 = mesh.vertices[triangle[np.logical_not(triangle_negative_check)]]\n",
    "                triangles_positive.append(np.vstack([section[0], section[1], vertex_3]))\n",
    "            elif sum(triangle_negative_check) == 1:\n",
    "                vertex_3 = mesh.vertices[triangle[triangle_negative_check]]\n",
    "                triangles_negative.append(np.vstack([section[0], section[1], vertex_3]))\n",
    "                vertex_1, vertex_2 = mesh.vertices[triangle[np.logical_not(triangle_negative_check)]]\n",
    "#                 print(section[0], section[1], vertex_1, vertex_2)\n",
    "                triangles_positive.extend(unordered_to_triangles([section[0], section[1], vertex_1, vertex_2]))\n",
    "        # If all points on the positive side this triangle is not affected\n",
    "        else:\n",
    "            triangles_positive.append(np.array(mesh.vertices[triangle]))\n",
    "            \n",
    "    # Get triangulation of the split surface\n",
    "    vertices_splitsurface = []\n",
    "    for a, b in polyline:\n",
    "        for vertex in [a,b]:\n",
    "            if tuple(vertex) not in vertices_splitsurface:\n",
    "                vertices_splitsurface.append(tuple(vertex))\n",
    "\n",
    "    triangles_splitsurface = unordered_to_triangles(vertices_splitsurface)\n",
    "    \n",
    "    # Add triangles of split surface to both the positive and negative side\n",
    "    triangles_negative.extend(triangles_splitsurface)\n",
    "    triangles_positive.extend(triangles_splitsurface)\n",
    "    \n",
    "    print(plane_normal_, plane_origin_)\n",
    "    \n",
    "    return np.array(triangles_positive), np.array(triangles_negative)"
   ]
  },
  {
   "cell_type": "code",
   "execution_count": 139,
   "id": "5df3c229",
   "metadata": {},
   "outputs": [],
   "source": [
    "np.random.seed(123)"
   ]
  },
  {
   "cell_type": "code",
   "execution_count": 140,
   "id": "163c0e15",
   "metadata": {
    "scrolled": true
   },
   "outputs": [
    {
     "name": "stdout",
     "output_type": "stream",
     "text": [
      "[ 0.7270126   0.29988907 -0.61767242] [ 0.00364515 -1.25566869 -0.55193688]\n",
      "(79, 2, 3)\n",
      "found\n",
      "[ 0.7270126   0.29988907 -0.61767242] [ 0.00364515 -1.25566869 -0.55193688]\n"
     ]
    }
   ],
   "source": [
    "pos_mesh, neg_mesh = split_mesh(mesh, normal, point)"
   ]
  },
  {
   "cell_type": "code",
   "execution_count": 141,
   "id": "a7147fad",
   "metadata": {},
   "outputs": [],
   "source": [
    "normal = np.array([ 0.7270126   , 0.29988907,  -0.61767242] )\n",
    "point = np.array([ 0.00364515, -1.25566869 , -0.55193688])"
   ]
  },
  {
   "cell_type": "code",
   "execution_count": 142,
   "id": "d6dd7f23",
   "metadata": {},
   "outputs": [],
   "source": [
    "pos_mesh = np.array(pos_mesh)\n",
    "neg_mesh = np.array(neg_mesh)"
   ]
  },
  {
   "cell_type": "code",
   "execution_count": 143,
   "id": "f10aaef0",
   "metadata": {},
   "outputs": [
    {
     "data": {
      "application/vnd.jupyter.widget-view+json": {
       "model_id": "ef1d3b0899b34ec99d0b755044899ccd",
       "version_major": 2,
       "version_minor": 0
      },
      "text/plain": [
       "Renderer(camera=PerspectiveCamera(children=(DirectionalLight(color='white', intensity=0.6, position=(0.0820813…"
      ]
     },
     "metadata": {},
     "output_type": "display_data"
    },
    {
     "data": {
      "text/plain": [
       "1"
      ]
     },
     "execution_count": 143,
     "metadata": {},
     "output_type": "execute_result"
    }
   ],
   "source": [
    "m = plot(pos_mesh.reshape(-1, 3),c='blue')\n",
    "m.add_points(neg_mesh.reshape(-1,3))"
   ]
  },
  {
   "cell_type": "code",
   "execution_count": 58,
   "id": "efbfdc30",
   "metadata": {},
   "outputs": [],
   "source": [
    "import math"
   ]
  },
  {
   "cell_type": "code",
   "execution_count": 59,
   "id": "c08c43c4",
   "metadata": {},
   "outputs": [],
   "source": [
    "# mesh_pos = trimesh.Trimesh(pos_mesh.reshape(-1,3))"
   ]
  },
  {
   "cell_type": "code",
   "execution_count": 144,
   "id": "a7611f01",
   "metadata": {},
   "outputs": [],
   "source": [
    "def get_verts_faces(triangles):\n",
    "    v = np.unique(triangles.reshape(-1,3),axis=0)\n",
    "    faces = []\n",
    "    for triangle in triangles:\n",
    "        tri_indices = []\n",
    "        for vertex in triangle:\n",
    "            for index, v_ in enumerate(v):\n",
    "                if (v_ == vertex).all():\n",
    "            \n",
    "                    tri_indices.append(index)\n",
    "        faces.append(tri_indices)\n",
    "    return v, np.array(faces)"
   ]
  },
  {
   "cell_type": "code",
   "execution_count": 145,
   "id": "0b978d54",
   "metadata": {},
   "outputs": [],
   "source": [
    "v, faces = get_verts_faces(pos_mesh)\n"
   ]
  },
  {
   "cell_type": "code",
   "execution_count": 146,
   "id": "88407092",
   "metadata": {},
   "outputs": [
    {
     "data": {
      "text/plain": [
       "array([[189, 157, 204],\n",
       "       [157, 189, 188],\n",
       "       [188, 139, 157],\n",
       "       ...,\n",
       "       [498, 505, 500],\n",
       "       [  9,   1,   8],\n",
       "       [  7,   1,   8]])"
      ]
     },
     "execution_count": 146,
     "metadata": {},
     "output_type": "execute_result"
    }
   ],
   "source": [
    "faces"
   ]
  },
  {
   "cell_type": "code",
   "execution_count": 147,
   "id": "0c20a135",
   "metadata": {},
   "outputs": [
    {
     "name": "stderr",
     "output_type": "stream",
     "text": [
      "/home/thor/anaconda3/envs/iglenv/lib/python3.6/site-packages/traittypes/traittypes.py:101: UserWarning: Given trait value dtype \"float32\" does not match required type \"float64\". A coerced copy has been created.\n",
      "  np.dtype(self.dtype).name))\n",
      "/home/thor/anaconda3/envs/iglenv/lib/python3.6/site-packages/traittypes/traittypes.py:101: UserWarning: Given trait value dtype \"uint32\" does not match required type \"float64\". A coerced copy has been created.\n",
      "  np.dtype(self.dtype).name))\n"
     ]
    },
    {
     "data": {
      "application/vnd.jupyter.widget-view+json": {
       "model_id": "1306ee8afa5a4d5b81293a60d16d47a8",
       "version_major": 2,
       "version_minor": 0
      },
      "text/plain": [
       "Renderer(camera=PerspectiveCamera(children=(DirectionalLight(color='white', intensity=0.6, position=(0.0028013…"
      ]
     },
     "metadata": {},
     "output_type": "display_data"
    },
    {
     "data": {
      "text/plain": [
       "<meshplot.Viewer.Viewer at 0x7f402dd73400>"
      ]
     },
     "execution_count": 147,
     "metadata": {},
     "output_type": "execute_result"
    }
   ],
   "source": [
    "plot(mesh.vertices, mesh.faces)"
   ]
  },
  {
   "cell_type": "code",
   "execution_count": 148,
   "id": "999c1608",
   "metadata": {},
   "outputs": [
    {
     "data": {
      "application/vnd.jupyter.widget-view+json": {
       "model_id": "063c8c9c6b8c4706902a95666d918535",
       "version_major": 2,
       "version_minor": 0
      },
      "text/plain": [
       "Renderer(camera=PerspectiveCamera(children=(DirectionalLight(color='white', intensity=0.6, position=(0.0820813…"
      ]
     },
     "metadata": {},
     "output_type": "display_data"
    }
   ],
   "source": [
    "p = plot(v,faces)\n",
    "p.add_lines(v[faces[:,0]], v[faces[:,1]], shading={\"line_color\": \"red\"});"
   ]
  },
  {
   "cell_type": "code",
   "execution_count": 149,
   "id": "fa506182",
   "metadata": {},
   "outputs": [],
   "source": [
    "patches = []\n"
   ]
  },
  {
   "cell_type": "code",
   "execution_count": 137,
   "id": "fd2e4700",
   "metadata": {},
   "outputs": [
    {
     "name": "stdout",
     "output_type": "stream",
     "text": [
      "[-0.70913009  0.65381653 -0.26392891] [-0.00260612  0.011225   -0.00451322]\n",
      "(100, 2, 3)\n",
      "found\n",
      "[-0.70913009  0.65381653 -0.26392891] [-0.00260612  0.011225   -0.00451322]\n",
      "[-0.05565712  0.01538727 -0.06430389]\n",
      "(67, 2, 3)\n"
     ]
    }
   ],
   "source": [
    "pos_mesh, neg_mesh = split_mesh(mesh)\n",
    "verts, faces  = get_verts_faces(pos_mesh)\n",
    "pos_mesh = trimesh.Trimesh(verts, faces)\n",
    "# pos_mesh = trimesh.Trimesh((pos_mesh.reshape(-1,3)))\n",
    "# neg_mesh = trimesh.Trimesh(neg_mesh.reshape(-1,3))\n",
    "# patches.append(pos_mesh)\n",
    "# patches.append(neg_mesh)\n",
    "plane_origin_ = pos_mesh.vertices.mean(0)\n",
    "print(plane_origin_)\n",
    "idx1 = random.randint(0, pos_mesh.vertices.shape[0]-1)\n",
    "idx2 = random.randint(0, pos_mesh.vertices.shape[0]-1)\n",
    "v1 = pos_mesh.vertices[idx1]\n",
    "v2 = pos_mesh.vertices[idx2]\n",
    "v_1 = (v1 - v2)/ np.linalg.norm(v1 - v2)\n",
    "idx1 = random.randint(0, pos_mesh.vertices.shape[0]-1)\n",
    "idx2 = random.randint(0, pos_mesh.vertices.shape[0]-1)\n",
    "v1 = pos_mesh.vertices[idx1]\n",
    "v2 = pos_mesh.vertices[idx2]\n",
    "v_2 = (v1- v2 )/ np.linalg.norm(v1 - v2)\n",
    "\n",
    "cross_ = np.cross(v_1, v_2)\n",
    "# plane_normal_ = np.random.randn(3)\n",
    "plane_normal_ = cross_\n",
    "polyline, triangles_edge = trimesh.intersections.mesh_plane(pos_mesh,\\\n",
    "                    plane_origin=plane_origin_,  plane_normal= cross_, return_faces=True)\n",
    "\n",
    "print(polyline.shape)"
   ]
  },
  {
   "cell_type": "code",
   "execution_count": 92,
   "id": "089db8fb",
   "metadata": {},
   "outputs": [
    {
     "data": {
      "text/plain": [
       "(463, 3)"
      ]
     },
     "execution_count": 92,
     "metadata": {},
     "output_type": "execute_result"
    }
   ],
   "source": [
    "pos_mesh.vertices.shape"
   ]
  },
  {
   "cell_type": "code",
   "execution_count": 99,
   "id": "f19e682a",
   "metadata": {},
   "outputs": [
    {
     "data": {
      "application/vnd.jupyter.widget-view+json": {
       "model_id": "df5d8779c13d47d092c3e9b6fbdf2026",
       "version_major": 2,
       "version_minor": 0
      },
      "text/plain": [
       "Renderer(camera=PerspectiveCamera(children=(DirectionalLight(color='white', intensity=0.6, position=(-0.094889…"
      ]
     },
     "metadata": {},
     "output_type": "display_data"
    },
    {
     "data": {
      "text/plain": [
       "<meshplot.Viewer.Viewer at 0x7f4037dff048>"
      ]
     },
     "execution_count": 99,
     "metadata": {},
     "output_type": "execute_result"
    }
   ],
   "source": [
    "plot(pos_mesh.vertices)"
   ]
  },
  {
   "cell_type": "code",
   "execution_count": 123,
   "id": "05d35ef6",
   "metadata": {},
   "outputs": [
    {
     "data": {
      "text/plain": [
       "(0, 3)"
      ]
     },
     "execution_count": 123,
     "metadata": {},
     "output_type": "execute_result"
    }
   ],
   "source": [
    "pos_mesh.faces.shape"
   ]
  },
  {
   "cell_type": "code",
   "execution_count": 121,
   "id": "90ad6e41",
   "metadata": {},
   "outputs": [
    {
     "data": {
      "text/plain": [
       "(0, 2, 3)"
      ]
     },
     "execution_count": 121,
     "metadata": {},
     "output_type": "execute_result"
    }
   ],
   "source": [
    "polyline.shape"
   ]
  },
  {
   "cell_type": "code",
   "execution_count": 108,
   "id": "bc8fd8d0",
   "metadata": {},
   "outputs": [],
   "source": [
    "import matplotlib.pyplot as plt"
   ]
  },
  {
   "cell_type": "code",
   "execution_count": 113,
   "id": "6684664d",
   "metadata": {},
   "outputs": [
    {
     "data": {
      "text/plain": [
       "Text(0.5, 0.92, 'simple 3D scatter plot')"
      ]
     },
     "execution_count": 113,
     "metadata": {},
     "output_type": "execute_result"
    },
    {
     "data": {
      "image/png": "[encoded data removed]",
      "text/plain": [
       "<Figure size 720x504 with 1 Axes>"
      ]
     },
     "metadata": {
      "needs_background": "light"
     },
     "output_type": "display_data"
    }
   ],
   "source": [
    "fig = plt.figure(figsize = (10, 7))\n",
    "ax = plt.axes(projection =\"3d\")\n",
    "\n",
    "# Creating plot\n",
    "ax.scatter3D(pos_mesh.vertices[:,0], pos_mesh.vertices[:,1], pos_mesh.vertices[:,2], color = \"green\")\n",
    "ax.scatter3D(plane_origin_[0], plane_origin_[1], plane_origin_[2] ,color='r')\n",
    "ax.scatter3D(v_1[0], v_1[1], v_1[2] )\n",
    "\n",
    "plt.title(\"simple 3D scatter plot\")"
   ]
  },
  {
   "cell_type": "code",
   "execution_count": 98,
   "id": "980dcc63",
   "metadata": {},
   "outputs": [
    {
     "data": {
      "text/plain": [
       "(0, 2, 3)"
      ]
     },
     "execution_count": 98,
     "metadata": {},
     "output_type": "execute_result"
    }
   ],
   "source": [
    "polyline.shape"
   ]
  },
  {
   "cell_type": "code",
   "execution_count": 151,
   "id": "dfab6cc4",
   "metadata": {},
   "outputs": [
    {
     "ename": "AttributeError",
     "evalue": "'numpy.ndarray' object has no attribute 'vertices'",
     "output_type": "error",
     "traceback": [
      "\u001b[0;31m---------------------------------------------------------------------------\u001b[0m",
      "\u001b[0;31mAttributeError\u001b[0m                            Traceback (most recent call last)",
      "\u001b[0;32m<ipython-input-151-4fa5c4c93e96>\u001b[0m in \u001b[0;36m<module>\u001b[0;34m\u001b[0m\n\u001b[0;32m----> 1\u001b[0;31m \u001b[0mp_\u001b[0m\u001b[0;34m,\u001b[0m\u001b[0mn\u001b[0m \u001b[0;34m=\u001b[0m \u001b[0msplit_mesh\u001b[0m\u001b[0;34m(\u001b[0m\u001b[0mpos_mesh\u001b[0m\u001b[0;34m)\u001b[0m\u001b[0;34m\u001b[0m\u001b[0;34m\u001b[0m\u001b[0m\n\u001b[0m",
      "\u001b[0;32m<ipython-input-138-a3c4e2e08745>\u001b[0m in \u001b[0;36msplit_mesh\u001b[0;34m(mesh, plane_normal, plane_origin)\u001b[0m\n\u001b[1;32m     13\u001b[0m \u001b[0;31m#             plane_normal_ /= np.linalg.norm(plane_normal_)\u001b[0m\u001b[0;34m\u001b[0m\u001b[0;34m\u001b[0m\u001b[0;34m\u001b[0m\u001b[0m\n\u001b[1;32m     14\u001b[0m \u001b[0;31m# #             plane_origin_ = np.random.randn(3)\u001b[0m\u001b[0;34m\u001b[0m\u001b[0;34m\u001b[0m\u001b[0;34m\u001b[0m\u001b[0m\n\u001b[0;32m---> 15\u001b[0;31m             \u001b[0mplane_origin_\u001b[0m \u001b[0;34m=\u001b[0m \u001b[0mnp\u001b[0m\u001b[0;34m.\u001b[0m\u001b[0mmean\u001b[0m\u001b[0;34m(\u001b[0m\u001b[0mmesh\u001b[0m\u001b[0;34m.\u001b[0m\u001b[0mvertices\u001b[0m\u001b[0;34m,\u001b[0m \u001b[0;36m0\u001b[0m\u001b[0;34m)\u001b[0m\u001b[0;34m\u001b[0m\u001b[0;34m\u001b[0m\u001b[0m\n\u001b[0m\u001b[1;32m     16\u001b[0m             \u001b[0midx1\u001b[0m \u001b[0;34m=\u001b[0m \u001b[0mrandom\u001b[0m\u001b[0;34m.\u001b[0m\u001b[0mrandint\u001b[0m\u001b[0;34m(\u001b[0m\u001b[0;36m0\u001b[0m\u001b[0;34m,\u001b[0m \u001b[0mpos_mesh\u001b[0m\u001b[0;34m.\u001b[0m\u001b[0mvertices\u001b[0m\u001b[0;34m.\u001b[0m\u001b[0mshape\u001b[0m\u001b[0;34m[\u001b[0m\u001b[0;36m0\u001b[0m\u001b[0;34m]\u001b[0m\u001b[0;34m-\u001b[0m\u001b[0;36m1\u001b[0m\u001b[0;34m)\u001b[0m\u001b[0;34m\u001b[0m\u001b[0;34m\u001b[0m\u001b[0m\n\u001b[1;32m     17\u001b[0m             \u001b[0midx2\u001b[0m \u001b[0;34m=\u001b[0m \u001b[0mrandom\u001b[0m\u001b[0;34m.\u001b[0m\u001b[0mrandint\u001b[0m\u001b[0;34m(\u001b[0m\u001b[0;36m0\u001b[0m\u001b[0;34m,\u001b[0m \u001b[0mpos_mesh\u001b[0m\u001b[0;34m.\u001b[0m\u001b[0mvertices\u001b[0m\u001b[0;34m.\u001b[0m\u001b[0mshape\u001b[0m\u001b[0;34m[\u001b[0m\u001b[0;36m0\u001b[0m\u001b[0;34m]\u001b[0m\u001b[0;34m-\u001b[0m\u001b[0;36m1\u001b[0m\u001b[0;34m)\u001b[0m\u001b[0;34m\u001b[0m\u001b[0;34m\u001b[0m\u001b[0m\n",
      "\u001b[0;31mAttributeError\u001b[0m: 'numpy.ndarray' object has no attribute 'vertices'"
     ]
    }
   ],
   "source": [
    "p_,n = split_mesh(pos_mesh)"
   ]
  },
  {
   "cell_type": "code",
   "execution_count": 154,
   "id": "54048987",
   "metadata": {},
   "outputs": [
    {
     "data": {
      "text/plain": [
       "<trimesh.Trimesh(vertices.shape=(728, 3), faces.shape=(1500, 3))>"
      ]
     },
     "execution_count": 154,
     "metadata": {},
     "output_type": "execute_result"
    }
   ],
   "source": [
    "mesh "
   ]
  },
  {
   "cell_type": "code",
   "execution_count": 155,
   "id": "cfc29350",
   "metadata": {},
   "outputs": [
    {
     "ename": "AttributeError",
     "evalue": "'numpy.ndarray' object has no attribute 'vertices'",
     "output_type": "error",
     "traceback": [
      "\u001b[0;31m---------------------------------------------------------------------------\u001b[0m",
      "\u001b[0;31mAttributeError\u001b[0m                            Traceback (most recent call last)",
      "\u001b[0;32m<ipython-input-155-c2c794684972>\u001b[0m in \u001b[0;36m<module>\u001b[0;34m\u001b[0m\n\u001b[1;32m      8\u001b[0m \u001b[0;32mwhile\u001b[0m \u001b[0;32mnot\u001b[0m \u001b[0mdone\u001b[0m\u001b[0;34m:\u001b[0m\u001b[0;34m\u001b[0m\u001b[0;34m\u001b[0m\u001b[0m\n\u001b[1;32m      9\u001b[0m     \u001b[0mmesh\u001b[0m \u001b[0;34m=\u001b[0m \u001b[0mpatches\u001b[0m\u001b[0;34m.\u001b[0m\u001b[0mpop\u001b[0m\u001b[0;34m(\u001b[0m\u001b[0;34m)\u001b[0m\u001b[0;34m\u001b[0m\u001b[0;34m\u001b[0m\u001b[0m\n\u001b[0;32m---> 10\u001b[0;31m     \u001b[0mp_\u001b[0m\u001b[0;34m,\u001b[0m \u001b[0mn_\u001b[0m \u001b[0;34m=\u001b[0m \u001b[0msplit_mesh\u001b[0m\u001b[0;34m(\u001b[0m\u001b[0mmesh\u001b[0m\u001b[0;34m)\u001b[0m\u001b[0;34m\u001b[0m\u001b[0;34m\u001b[0m\u001b[0m\n\u001b[0m\u001b[1;32m     11\u001b[0m     \u001b[0mprint\u001b[0m\u001b[0;34m(\u001b[0m\u001b[0;34m'split done'\u001b[0m\u001b[0;34m)\u001b[0m\u001b[0;34m\u001b[0m\u001b[0;34m\u001b[0m\u001b[0m\n\u001b[1;32m     12\u001b[0m     \u001b[0mverts\u001b[0m\u001b[0;34m,\u001b[0m \u001b[0mfaces\u001b[0m  \u001b[0;34m=\u001b[0m \u001b[0mget_verts_faces\u001b[0m\u001b[0;34m(\u001b[0m\u001b[0mp_\u001b[0m\u001b[0;34m)\u001b[0m\u001b[0;34m\u001b[0m\u001b[0;34m\u001b[0m\u001b[0m\n",
      "\u001b[0;32m<ipython-input-138-a3c4e2e08745>\u001b[0m in \u001b[0;36msplit_mesh\u001b[0;34m(mesh, plane_normal, plane_origin)\u001b[0m\n\u001b[1;32m     14\u001b[0m \u001b[0;31m# #             plane_origin_ = np.random.randn(3)\u001b[0m\u001b[0;34m\u001b[0m\u001b[0;34m\u001b[0m\u001b[0;34m\u001b[0m\u001b[0m\n\u001b[1;32m     15\u001b[0m             \u001b[0mplane_origin_\u001b[0m \u001b[0;34m=\u001b[0m \u001b[0mnp\u001b[0m\u001b[0;34m.\u001b[0m\u001b[0mmean\u001b[0m\u001b[0;34m(\u001b[0m\u001b[0mmesh\u001b[0m\u001b[0;34m.\u001b[0m\u001b[0mvertices\u001b[0m\u001b[0;34m,\u001b[0m \u001b[0;36m0\u001b[0m\u001b[0;34m)\u001b[0m\u001b[0;34m\u001b[0m\u001b[0;34m\u001b[0m\u001b[0m\n\u001b[0;32m---> 16\u001b[0;31m             \u001b[0midx1\u001b[0m \u001b[0;34m=\u001b[0m \u001b[0mrandom\u001b[0m\u001b[0;34m.\u001b[0m\u001b[0mrandint\u001b[0m\u001b[0;34m(\u001b[0m\u001b[0;36m0\u001b[0m\u001b[0;34m,\u001b[0m \u001b[0mpos_mesh\u001b[0m\u001b[0;34m.\u001b[0m\u001b[0mvertices\u001b[0m\u001b[0;34m.\u001b[0m\u001b[0mshape\u001b[0m\u001b[0;34m[\u001b[0m\u001b[0;36m0\u001b[0m\u001b[0;34m]\u001b[0m\u001b[0;34m-\u001b[0m\u001b[0;36m1\u001b[0m\u001b[0;34m)\u001b[0m\u001b[0;34m\u001b[0m\u001b[0;34m\u001b[0m\u001b[0m\n\u001b[0m\u001b[1;32m     17\u001b[0m             \u001b[0midx2\u001b[0m \u001b[0;34m=\u001b[0m \u001b[0mrandom\u001b[0m\u001b[0;34m.\u001b[0m\u001b[0mrandint\u001b[0m\u001b[0;34m(\u001b[0m\u001b[0;36m0\u001b[0m\u001b[0;34m,\u001b[0m \u001b[0mpos_mesh\u001b[0m\u001b[0;34m.\u001b[0m\u001b[0mvertices\u001b[0m\u001b[0;34m.\u001b[0m\u001b[0mshape\u001b[0m\u001b[0;34m[\u001b[0m\u001b[0;36m0\u001b[0m\u001b[0;34m]\u001b[0m\u001b[0;34m-\u001b[0m\u001b[0;36m1\u001b[0m\u001b[0;34m)\u001b[0m\u001b[0;34m\u001b[0m\u001b[0;34m\u001b[0m\u001b[0m\n\u001b[1;32m     18\u001b[0m             \u001b[0mv1\u001b[0m \u001b[0;34m=\u001b[0m \u001b[0mpos_mesh\u001b[0m\u001b[0;34m.\u001b[0m\u001b[0mvertices\u001b[0m\u001b[0;34m[\u001b[0m\u001b[0midx1\u001b[0m\u001b[0;34m]\u001b[0m\u001b[0;34m\u001b[0m\u001b[0;34m\u001b[0m\u001b[0m\n",
      "\u001b[0;31mAttributeError\u001b[0m: 'numpy.ndarray' object has no attribute 'vertices'"
     ]
    }
   ],
   "source": [
    "\n",
    "num_patches = 10\n",
    "   \n",
    "\n",
    "patches = [mesh]\n",
    "\n",
    "done = False\n",
    "counter = 2\n",
    "while not done:\n",
    "    mesh = patches.pop()\n",
    "    p_, n_ = split_mesh(mesh)\n",
    "    print('split done')\n",
    "    verts, faces  = get_verts_faces(p_)\n",
    "    p_ = trimesh.Trimesh(verts, faces)\n",
    "    verts, faces = get_verts_faces(n_)\n",
    "    n_ = trimesh.Trimesh(verts, faces)\n",
    "\n",
    "    patches.insert(0, p_)\n",
    "    patches.insert(0, n_)\n",
    "\n",
    "    counter+=2\n",
    "    print(counter)\n",
    "    if counter >= num_patches:\n",
    "        break\n"
   ]
  },
  {
   "cell_type": "code",
   "execution_count": null,
   "id": "be7d9c49",
   "metadata": {},
   "outputs": [],
   "source": [
    "def linestrings_to_polygon(poly):\n",
    "    polygon = []\n",
    "    \n",
    "    for index, pieces in enumerate(poly):\n",
    "        polygon.append(pieces[0])\n",
    "        polygon.append(pieces[1])\n",
    "        "
   ]
  },
  {
   "cell_type": "code",
   "execution_count": 118,
   "id": "fecce0ca",
   "metadata": {},
   "outputs": [],
   "source": [
    "import matplotlib.pyplot as plt"
   ]
  },
  {
   "cell_type": "code",
   "execution_count": 123,
   "id": "b4ec915f",
   "metadata": {},
   "outputs": [],
   "source": [
    "import trimesh.intersections\n",
    "\n",
    "def slice_mesh_plane_bidirectional(mesh, plane_normal, plane_origin):\n",
    "    # Compute positive side of plane\n",
    "    dots_cache = np.dot(plane_normal, (mesh.vertices - plane_origin).T)[mesh.faces]\n",
    "    positive = trimesh.intersections.slice_mesh_plane(mesh,\n",
    "                                                     plane_normal=plane_normal,\n",
    "                                                     plane_origin=plane_origin,\n",
    "                                                     )\n",
    "    \n",
    "    # Compute negative side of plane\n",
    "    dots_cache *= -1\n",
    "    negative = trimesh.intersections.slice_mesh_plane(mesh,\n",
    "                                                     plane_normal=-plane_normal,\n",
    "                                                     plane_origin=plane_origin,\n",
    "                                                     )\n",
    "    \n",
    "    # Compute the cap\n",
    "    cap = trimesh.intersections.mesh_plane(mesh,\n",
    "                                       plane_normal=-plane_normal, \n",
    "                                       plane_origin=plane_origin, \n",
    "                                       return_faces=False, \n",
    "                                       )\n",
    "    print(cap.shape)\n",
    "    for piece in cap:\n",
    "        plt.plot(piece)\n",
    "    plt.show()\n",
    "    polygon = linestrings_to_polygon(cap)\n",
    "    # Triangulate the cap and add to both sides\n",
    "    cap_vertices, cap_faces = trimesh.creation.triangulate_polygon(polygon)\n",
    "    print(cap_vertices.shape, cap_faces.shape)\n",
    "    \n",
    "    # Append cap to positive mesh\n",
    "    positive_vertices, n_positive_vertices = positive.vertices, len(positive.vertices)\n",
    "    np.append(positive_vertices, cap_vertices, axis=0)\n",
    "    positive_faces = positive.faces\n",
    "    np.append(positive_faces, cap_faces+n_positive_vertices, axis=0)\n",
    "    # Construct negative mesh\n",
    "    positive_mesh = trimesh.base.Trimesh(vertices=positive_vertices, faces=positive_faces)\n",
    "    \n",
    "    # Append cap to negative mesh\n",
    "    negative_vertices, n_negative_vertices = negative.vertices, len(negative.vertices)\n",
    "    np.append(negative_vertices, cap_vertices, axis=0)\n",
    "    negative_faces = negative.faces\n",
    "    np.append(negative_faces, cap_faces+n_negative_vertices, axis=0)\n",
    "    # Construct negative mesh\n",
    "    negative_mesh = trimesh.base.Trimesh(vertices=negative_vertices, faces=negative_faces)\n",
    "\n",
    "    return [positive_mesh, negative_mesh]"
   ]
  },
  {
   "cell_type": "code",
   "execution_count": 124,
   "id": "f5eb92b7",
   "metadata": {
    "scrolled": true
   },
   "outputs": [
    {
     "name": "stdout",
     "output_type": "stream",
     "text": [
      "(141, 2, 3)\n"
     ]
    },
    {
     "data": {
      "image/png": "[encoded data removed]",
      "text/plain": [
       "<Figure size 432x288 with 1 Axes>"
      ]
     },
     "metadata": {
      "needs_background": "light"
     },
     "output_type": "display_data"
    },
    {
     "ename": "NameError",
     "evalue": "name 'linestrings_to_polygon' is not defined",
     "output_type": "error",
     "traceback": [
      "\u001b[0;31m---------------------------------------------------------------------------\u001b[0m",
      "\u001b[0;31mNameError\u001b[0m                                 Traceback (most recent call last)",
      "\u001b[0;32m<ipython-input-124-e8bbd4488c5a>\u001b[0m in \u001b[0;36m<module>\u001b[0;34m\u001b[0m\n\u001b[0;32m----> 1\u001b[0;31m \u001b[0mslice_mesh_plane_bidirectional\u001b[0m\u001b[0;34m(\u001b[0m\u001b[0mmesh\u001b[0m\u001b[0;34m,\u001b[0m \u001b[0mpoint\u001b[0m\u001b[0;34m,\u001b[0m \u001b[0mnormal\u001b[0m\u001b[0;34m)\u001b[0m\u001b[0;34m\u001b[0m\u001b[0;34m\u001b[0m\u001b[0m\n\u001b[0m",
      "\u001b[0;32m<ipython-input-123-f183a4d105f7>\u001b[0m in \u001b[0;36mslice_mesh_plane_bidirectional\u001b[0;34m(mesh, plane_normal, plane_origin)\u001b[0m\n\u001b[1;32m     26\u001b[0m         \u001b[0mplt\u001b[0m\u001b[0;34m.\u001b[0m\u001b[0mplot\u001b[0m\u001b[0;34m(\u001b[0m\u001b[0mpiece\u001b[0m\u001b[0;34m)\u001b[0m\u001b[0;34m\u001b[0m\u001b[0;34m\u001b[0m\u001b[0m\n\u001b[1;32m     27\u001b[0m     \u001b[0mplt\u001b[0m\u001b[0;34m.\u001b[0m\u001b[0mshow\u001b[0m\u001b[0;34m(\u001b[0m\u001b[0;34m)\u001b[0m\u001b[0;34m\u001b[0m\u001b[0;34m\u001b[0m\u001b[0m\n\u001b[0;32m---> 28\u001b[0;31m     \u001b[0mpolygon\u001b[0m \u001b[0;34m=\u001b[0m \u001b[0mlinestrings_to_polygon\u001b[0m\u001b[0;34m(\u001b[0m\u001b[0mcap\u001b[0m\u001b[0;34m)\u001b[0m\u001b[0;34m\u001b[0m\u001b[0;34m\u001b[0m\u001b[0m\n\u001b[0m\u001b[1;32m     29\u001b[0m     \u001b[0;31m# Triangulate the cap and add to both sides\u001b[0m\u001b[0;34m\u001b[0m\u001b[0;34m\u001b[0m\u001b[0;34m\u001b[0m\u001b[0m\n\u001b[1;32m     30\u001b[0m     \u001b[0mcap_vertices\u001b[0m\u001b[0;34m,\u001b[0m \u001b[0mcap_faces\u001b[0m \u001b[0;34m=\u001b[0m \u001b[0mtrimesh\u001b[0m\u001b[0;34m.\u001b[0m\u001b[0mcreation\u001b[0m\u001b[0;34m.\u001b[0m\u001b[0mtriangulate_polygon\u001b[0m\u001b[0;34m(\u001b[0m\u001b[0mpolygon\u001b[0m\u001b[0;34m)\u001b[0m\u001b[0;34m\u001b[0m\u001b[0;34m\u001b[0m\u001b[0m\n",
      "\u001b[0;31mNameError\u001b[0m: name 'linestrings_to_polygon' is not defined"
     ]
    }
   ],
   "source": [
    "slice_mesh_plane_bidirectional(mesh, point, normal)"
   ]
  },
  {
   "cell_type": "code",
   "execution_count": null,
   "id": "41feb73e",
   "metadata": {},
   "outputs": [],
   "source": []
  }
 ],
 "metadata": {
  "kernelspec": {
   "display_name": "Python 3",
   "language": "python",
   "name": "python3"
  },
  "language_info": {
   "codemirror_mode": {
    "name": "ipython",
    "version": 3
   },
   "file_extension": ".py",
   "mimetype": "text/x-python",
   "name": "python",
   "nbconvert_exporter": "python",
   "pygments_lexer": "ipython3",
   "version": "3.6.13"
  }
 },
 "nbformat": 4,
 "nbformat_minor": 5
}
