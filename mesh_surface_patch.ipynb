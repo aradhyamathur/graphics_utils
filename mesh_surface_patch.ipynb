{
 "cells": [
  {
   "cell_type": "code",
   "execution_count": 1,
   "id": "7d72ce39",
   "metadata": {},
   "outputs": [],
   "source": [
    "import trimesh"
   ]
  },
  {
   "cell_type": "code",
   "execution_count": 3,
   "id": "cda79889",
   "metadata": {},
   "outputs": [],
   "source": [
    "mesh = trimesh.load_mesh('./bunny.obj')"
   ]
  },
  {
   "cell_type": "code",
   "execution_count": 4,
   "id": "b17d312c",
   "metadata": {},
   "outputs": [],
   "source": [
    "import igl"
   ]
  },
  {
   "cell_type": "code",
   "execution_count": 5,
   "id": "4b2716ee",
   "metadata": {},
   "outputs": [],
   "source": [
    "_,v_,f_,_,_ = igl.decimate(mesh.vertices,mesh.faces, 1000)"
   ]
  },
  {
   "cell_type": "code",
   "execution_count": 6,
   "id": "2e3b2ba1",
   "metadata": {},
   "outputs": [],
   "source": [
    "mesh = trimesh.Trimesh(v_,f_)"
   ]
  },
  {
   "cell_type": "code",
   "execution_count": 7,
   "id": "733d77a3",
   "metadata": {},
   "outputs": [],
   "source": [
    "import numpy as np"
   ]
  },
  {
   "cell_type": "code",
   "execution_count": 8,
   "id": "a86cacea",
   "metadata": {},
   "outputs": [],
   "source": [
    "normal = np.random.randn(3)\n",
    "normal /= np.linalg.norm(normal)\n",
    "point = np.random.randn(3)"
   ]
  },
  {
   "cell_type": "code",
   "execution_count": 24,
   "id": "a78340ce",
   "metadata": {},
   "outputs": [
    {
     "name": "stdout",
     "output_type": "stream",
     "text": [
      "Requirement already satisfied: triangle in /home/thor/anaconda3/envs/iglenv/lib/python3.6/site-packages (20200424)\r\n",
      "Requirement already satisfied: numpy in /home/thor/anaconda3/envs/iglenv/lib/python3.6/site-packages (from triangle) (1.19.4)\r\n"
     ]
    }
   ],
   "source": [
    "!pip install triangle"
   ]
  },
  {
   "cell_type": "code",
   "execution_count": 54,
   "id": "f53a035b",
   "metadata": {},
   "outputs": [],
   "source": [
    "bbox_mesh = trimesh.Trimesh()"
   ]
  },
  {
   "cell_type": "code",
   "execution_count": 11,
   "id": "857394c0",
   "metadata": {},
   "outputs": [],
   "source": [
    "def generate_box_mesh(v):\n",
    "    v1 = 0\n",
    "    v2 = 1\n",
    "    v3 = 2\n",
    "    v4 = 3\n",
    "    v5 = 4\n",
    "    v6 = 5\n",
    "    v7 = 6\n",
    "    v8 = 7\n",
    "\n",
    "    bbox_tri = np.array([[v1, v2, v5], [v2, v5, v6], [v2, v3, v6], \\\n",
    "                    [v6, v7, v3], [v3, v7, v8], [v8, v4, v3], [v4, v8, v5],\\\n",
    "                   [v5, v4, v1], [v5, v6, v8], [v8, v6, v7], [v2, v4, v1], [v2, v4, v3]\n",
    "                   ])\n",
    "\n",
    "    zmin = v[:,-1].min() + 0.1 * v[:,-1].min()\n",
    "    zmax = v[:,-1].max() + 0.1 * v[:,-1].max()\n",
    "    ymin = v[:,-2].min() + 0.1 * v[:,-2].min() \n",
    "    ymax = v[:, -2].max() + 0.1 * v[:, -2].max() \n",
    "    xmin = v[:, -3].min() + 0.1 * v[:, -3].min() \n",
    "    xmax = v[:, -3].max() + v[:, -3].max()\n",
    "\n",
    "    bbox_verts = np.array([[xmin, ymin, zmax],[xmax,ymin,zmax],[xmax, ymin, zmin],\\\n",
    "                  [xmin, ymin, zmin], [xmin, ymax, zmax], [xmax, ymax, zmax],\\\n",
    "                  [xmax, ymax, zmin], [xmin, ymax, zmin]])\n",
    "    \n",
    "    return bbox_verts, bbox_tri"
   ]
  },
  {
   "cell_type": "code",
   "execution_count": 98,
   "id": "11d9bb64",
   "metadata": {},
   "outputs": [],
   "source": [
    "bbox_verts, bbox_tri = generate_box_mesh(mesh.vertices)\n",
    "\n",
    "bbox_mesh = trimesh.Trimesh(bbox_verts, bbox_tri)"
   ]
  },
  {
   "cell_type": "code",
   "execution_count": 99,
   "id": "a4611cbe",
   "metadata": {},
   "outputs": [],
   "source": [
    "from meshplot import plot"
   ]
  },
  {
   "cell_type": "code",
   "execution_count": 100,
   "id": "82f6c52e",
   "metadata": {
    "scrolled": false
   },
   "outputs": [
    {
     "name": "stderr",
     "output_type": "stream",
     "text": [
      "/home/thor/anaconda3/envs/iglenv/lib/python3.6/site-packages/traittypes/traittypes.py:101: UserWarning: Given trait value dtype \"float32\" does not match required type \"float64\". A coerced copy has been created.\n",
      "  np.dtype(self.dtype).name))\n"
     ]
    },
    {
     "data": {
      "application/vnd.jupyter.widget-view+json": {
       "model_id": "729de4503a36428996ff265071d752b2",
       "version_major": 2,
       "version_minor": 0
      },
      "text/plain": [
       "Renderer(camera=PerspectiveCamera(children=(DirectionalLight(color='white', intensity=0.6, position=(-0.016663…"
      ]
     },
     "metadata": {},
     "output_type": "display_data"
    },
    {
     "data": {
      "text/plain": [
       "1"
      ]
     },
     "execution_count": 100,
     "metadata": {},
     "output_type": "execute_result"
    }
   ],
   "source": [
    "\n",
    "normal = np.random.randn(3)\n",
    "normal /= np.linalg.norm(normal)\n",
    "point = np.random.randn(3)\n",
    "\n",
    "point = np.array([-0.54905429,  0.14446151, -0.16177154])\n",
    "normal = np.array([-0.19714132, -0.87347182,  0.44517669])\n",
    "polyline, triangles_edge = trimesh.intersections.mesh_plane(mesh, \n",
    "                                                           plane_origin= point, \n",
    "                                                           plane_normal= normal, \n",
    "                                                           return_faces=True)\n",
    "\n",
    "# print(polyline.shape)\n",
    "m = plot(mesh.vertices)\n",
    "# m.add_mesh(bbox_verts, bbox_tri)\n",
    "m.add_points(polyline.reshape(-1,3), c='blue')"
   ]
  },
  {
   "cell_type": "code",
   "execution_count": 101,
   "id": "761ec496",
   "metadata": {},
   "outputs": [
    {
     "data": {
      "text/plain": [
       "(array([-0.54905429,  0.14446151, -0.16177154]),\n",
       " array([-0.19714132, -0.87347182,  0.44517669]))"
      ]
     },
     "execution_count": 101,
     "metadata": {},
     "output_type": "execute_result"
    }
   ],
   "source": [
    "point,normal\n"
   ]
  },
  {
   "cell_type": "code",
   "execution_count": 102,
   "id": "2f6b9397",
   "metadata": {},
   "outputs": [],
   "source": [
    "bbox_mesh = trimesh.Trimesh()\n",
    "bbox_mesh.vertices = bbox_verts\n",
    "bbox_mesh.faces  = bbox_tri"
   ]
  },
  {
   "cell_type": "code",
   "execution_count": 103,
   "id": "8f7c9b7c",
   "metadata": {},
   "outputs": [],
   "source": [
    "def unordered_to_triangles(points):\n",
    "    triangles = [[points[0], points[1], points[2]], [points[1], points[2],points[3]]]\n",
    "    return np.array(triangles)"
   ]
  },
  {
   "cell_type": "code",
   "execution_count": 115,
   "id": "06f5be53",
   "metadata": {},
   "outputs": [],
   "source": [
    "def split_mesh(mesh, plane_origin, plane_normal):\n",
    "    \"\"\"\n",
    "    Splits mesh by intersection with a plane, \n",
    "    returns closed mesh for positive and negative side of plane \n",
    "    \"\"\"\n",
    "    plane_normal = (plane_normal)\n",
    "    \n",
    "    polyline, triangles_edge = trimesh.intersections.mesh_plane(mesh, \n",
    "                                                           plane_origin= plane_origin, \n",
    "                                                           plane_normal= plane_normal, \n",
    "                                                           return_faces=True)\n",
    "    \n",
    "    vertices_negative = []\n",
    "    vertices_positive = []\n",
    "    for vertex_id, vertex in enumerate(mesh.vertices):\n",
    "        # TODO: add threshold\n",
    "        signed_distance = np.dot(plane_normal, np.subtract(vertex, plane_origin))\n",
    "        if signed_distance < 0:\n",
    "            vertices_negative.append(vertex_id)\n",
    "        else:\n",
    "            vertices_positive.append(vertex_id)\n",
    "    \n",
    "    triangles_negative = []\n",
    "    triangles_positive = []\n",
    "    # For each triangle check how many points on either side of the plane\n",
    "    for triangle in mesh.faces:\n",
    "        triangle_negative_check = [vertex_id in vertices_negative for vertex_id in triangle]\n",
    "        # If all points on the negative side this triangle is not affected\n",
    "        if all(triangle_negative_check):\n",
    "            triangles_negative.append(np.array(mesh.vertices[triangle]))\n",
    "        elif any(triangle_negative_check):\n",
    "            # Get section line for this triangle on edge\n",
    "            section = polyline[np.all(np.isin(mesh.faces[triangles_edge], np.array(triangle)), axis=1)][0]\n",
    "            assert section.shape == (2,3)\n",
    "            # If two points on negative side\n",
    "            if sum(triangle_negative_check) == 2:\n",
    "                vertex_1, vertex_2 = mesh.vertices[triangle[triangle_negative_check]]\n",
    "                \n",
    "                triangles_negative.extend(unordered_to_triangles([section[0], section[1], vertex_1, vertex_2]))\n",
    "                vertex_3 = mesh.vertices[triangle[np.logical_not(triangle_negative_check)]]\n",
    "                triangles_positive.append(np.vstack([section[0], section[1], vertex_3]))\n",
    "            elif sum(triangle_negative_check) == 1:\n",
    "                vertex_3 = mesh.vertices[triangle[triangle_negative_check]]\n",
    "                triangles_negative.append(np.vstack([section[0], section[1], vertex_3]))\n",
    "                vertex_1, vertex_2 = mesh.vertices[triangle[np.logical_not(triangle_negative_check)]]\n",
    "#                 print(section[0], section[1], vertex_1, vertex_2)\n",
    "                triangles_positive.extend(unordered_to_triangles([section[0], section[1], vertex_1, vertex_2]))\n",
    "        # If all points on the positive side this triangle is not affected\n",
    "        else:\n",
    "            triangles_positive.append(np.array(mesh.vertices[triangle]))\n",
    "            \n",
    "    # Get triangulation of the split surface\n",
    "    vertices_splitsurface = []\n",
    "    for a, b in polyline:\n",
    "        for vertex in [a,b]:\n",
    "            if tuple(vertex) not in vertices_splitsurface:\n",
    "                vertices_splitsurface.append(tuple(vertex))\n",
    "\n",
    "    triangles_splitsurface = unordered_to_triangles(vertices_splitsurface)\n",
    "    \n",
    "    # Add triangles of split surface to both the positive and negative side\n",
    "    triangles_negative.extend(triangles_splitsurface)\n",
    "    triangles_positive.extend(triangles_splitsurface)\n",
    "    \n",
    "\n",
    "    \n",
    "    return np.array(triangles_positive), np.array(triangles_negative)"
   ]
  },
  {
   "cell_type": "code",
   "execution_count": 116,
   "id": "3ac5f462",
   "metadata": {
    "scrolled": true
   },
   "outputs": [],
   "source": [
    "pos_mesh, neg_mesh = split_mesh(mesh, point, normal)"
   ]
  },
  {
   "cell_type": "code",
   "execution_count": 117,
   "id": "d44cae06",
   "metadata": {},
   "outputs": [],
   "source": [
    "pos_mesh = np.array(pos_mesh)\n",
    "neg_mesh = np.array(neg_mesh)"
   ]
  },
  {
   "cell_type": "code",
   "execution_count": 118,
   "id": "cdee8c72",
   "metadata": {},
   "outputs": [
    {
     "data": {
      "application/vnd.jupyter.widget-view+json": {
       "model_id": "2a33cba4e15f425693e46a542fcc8a45",
       "version_major": 2,
       "version_minor": 0
      },
      "text/plain": [
       "Renderer(camera=PerspectiveCamera(children=(DirectionalLight(color='white', intensity=0.6, position=(-0.016663…"
      ]
     },
     "metadata": {},
     "output_type": "display_data"
    },
    {
     "data": {
      "text/plain": [
       "1"
      ]
     },
     "execution_count": 118,
     "metadata": {},
     "output_type": "execute_result"
    }
   ],
   "source": [
    "m = plot(pos_mesh.reshape(-1, 3),c='blue')\n",
    "m.add_points(neg_mesh.reshape(-1,3))"
   ]
  },
  {
   "cell_type": "code",
   "execution_count": null,
   "id": "ca99564c",
   "metadata": {},
   "outputs": [],
   "source": []
  }
 ],
 "metadata": {
  "kernelspec": {
   "display_name": "Python 3",
   "language": "python",
   "name": "python3"
  },
  "language_info": {
   "codemirror_mode": {
    "name": "ipython",
    "version": 3
   },
   "file_extension": ".py",
   "mimetype": "text/x-python",
   "name": "python",
   "nbconvert_exporter": "python",
   "pygments_lexer": "ipython3",
   "version": "3.6.13"
  }
 },
 "nbformat": 4,
 "nbformat_minor": 5
}
