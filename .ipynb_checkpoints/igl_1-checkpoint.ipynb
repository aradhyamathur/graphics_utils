{
 "cells": [
  {
   "cell_type": "markdown",
   "id": "b9849bc6",
   "metadata": {},
   "source": [
    "## Installation "
   ]
  },
  {
   "cell_type": "markdown",
   "id": "a6913257",
   "metadata": {},
   "source": [
    "activate environment and install \n",
    "<br>\n",
    "conda install -c conda-forge igl \n",
    "<br>\n",
    "conda install -c conda-forge meshplot\n",
    "<br> \n",
    "pip install numpy\n",
    "<br>\n",
    "pip install scipy\n",
    "\n",
    "<br>\n",
    "https://drive.google.com/drive/folders/1X34dBiyU0x6Pz-kbsuseJ6mRlnzZ2xF-?usp=sharing"
   ]
  },
  {
   "cell_type": "code",
   "execution_count": 1,
   "id": "6565aa1f",
   "metadata": {},
   "outputs": [],
   "source": [
    "import igl\n",
    "import scipy as sp\n",
    "import numpy as np\n",
    "from meshplot import plot, subplot, interact"
   ]
  },
  {
   "cell_type": "markdown",
   "id": "bada2196",
   "metadata": {},
   "source": [
    "### Loading a mesh \n",
    "\n",
    "In order to load a mesh igl comes with pre-build functions that can read and parse mesh files. <br>\n",
    "A .mesh file contains the list of vertices and triangles, vertices are the 3d coordinates of points and triangles stores the index corresponding to each vertex in a triangle."
   ]
  },
  {
   "cell_type": "code",
   "execution_count": 2,
   "id": "5eb446d7",
   "metadata": {},
   "outputs": [],
   "source": [
    "#open bunny.mesh."
   ]
  },
  {
   "cell_type": "code",
   "execution_count": 2,
   "id": "15b3c8c9",
   "metadata": {},
   "outputs": [],
   "source": [
    "v,t, f = igl.read_mesh('./bunny.mesh')\n",
    "# v stores the vertices and f stores the faces"
   ]
  },
  {
   "cell_type": "code",
   "execution_count": 3,
   "id": "ef719731",
   "metadata": {},
   "outputs": [
    {
     "name": "stdout",
     "output_type": "stream",
     "text": [
      "(5433, 3) (6966, 3)\n",
      "## Vertices ## [[-0.0260146   0.112578    0.0363871 ]\n",
      " [-0.0321783   0.174119   -0.00263321]\n",
      " [-0.080718    0.152855    0.0302446 ]]\n",
      "## Faces ## [[2784 2497 2027]\n",
      " [1077  225 1060]\n",
      " [ 425  450  381]]\n"
     ]
    }
   ],
   "source": [
    "print(v.shape, f.shape)\n",
    "print('## Vertices ##', v[:3])\n",
    "print('## Faces ##', f[:3])"
   ]
  },
  {
   "cell_type": "markdown",
   "id": "f9ef3aa1",
   "metadata": {},
   "source": [
    "### Mesh statistics"
   ]
  },
  {
   "cell_type": "markdown",
   "id": "6be3a2c3",
   "metadata": {},
   "source": [
    "![alt text](https://www.researchgate.net/profile/Marco-Attene/publication/225913168/figure/fig2/AS:302290532618241@1449083087214/Meshes-Irregular-semi-regular-and-regular.png)"
   ]
  },
  {
   "cell_type": "markdown",
   "id": "feb0f490",
   "metadata": {},
   "source": [
    "Libigl contains various mesh statistics, including face angles, face areas and the detection of singular vertices, which are vertices with more or less than 6 neighbours in triangulations or 4 in quadrangulations."
   ]
  },
  {
   "cell_type": "code",
   "execution_count": 4,
   "id": "a80d0ece",
   "metadata": {},
   "outputs": [
    {
     "name": "stdout",
     "output_type": "stream",
     "text": [
      "Total vertices :  5433\n",
      "Irregular vertices  no :  2139 39.37%\n",
      "Area average: 8.356721028933905e-06 Min:3.1288891820704787e-07 Max:9.39460837031244e-05 Sigma:0.5728664262127175\n"
     ]
    }
   ],
   "source": [
    "irregular = igl.is_irregular_vertex(v,f)\n",
    "v_count = v.shape[0]\n",
    "irregular_v_count = np.sum(irregular)\n",
    "irregular_ratio = irregular_v_count / v_count\n",
    "print('Total vertices : ', v_count)\n",
    "print('Irregular vertices  no :  {} {:.2f}%'.format(irregular_v_count, (irregular_ratio * 100.)))\n",
    "\n",
    "area = igl.doublearea(v,f) /2.0 # igl.doublearea computes twice the area for each input triangle\n",
    "area_avg = np.mean(area)\n",
    "area_min = np.min(area)\n",
    "area_max = np.max(area)\n",
    "area_ns = (area - area_avg) / area_avg\n",
    "area_sigma = np.sqrt(np.mean(np.square(area_ns)))\n",
    "print('Area average: {} Min:{} Max:{} Sigma:{}'.format(area_avg, area_min, area_max, area_sigma))"
   ]
  },
  {
   "cell_type": "markdown",
   "id": "ca06e6c9",
   "metadata": {},
   "source": [
    "The first row contains the number and percentage of irregular vertices, which is particularly important for quadrilateral meshes when they are used to define subdivision surfaces: every singular point will result in a point of the surface that is only C^1.\n",
    "The second row reports the area of the minimal element, maximal element and the standard deviation. These numbers are normalized by the mean area, so in the example above 5.33 max area means that the biggest face is 5 times larger than the average face. An ideal isotropic mesh would have both min and max area close to 1.\n",
    "\n",
    "The third row measures the face angles, which should be close to 60 degrees (90 for quads) in a perfectly regular triangulation. For FEM purposes, the closer the angles are to 60 degrees the more stable will the optimization be. In this case, it is clear that the mesh is of bad quality and it will probably result in artifacts if used for solving PDEs."
   ]
  },
  {
   "cell_type": "code",
   "execution_count": 68,
   "id": "d820dd7f",
   "metadata": {},
   "outputs": [
    {
     "name": "stdout",
     "output_type": "stream",
     "text": [
      "(6966, 3) (6966, 3)\n"
     ]
    }
   ],
   "source": [
    "angles = igl.internal_angles(v,f)\n",
    "print(angles.shape, f.shape)\n",
    " #f by poly-size array of internal angles."
   ]
  },
  {
   "cell_type": "code",
   "execution_count": null,
   "id": "e71cbf90",
   "metadata": {},
   "outputs": [],
   "source": []
  },
  {
   "cell_type": "code",
   "execution_count": 74,
   "id": "f51b3cfc",
   "metadata": {},
   "outputs": [
    {
     "data": {
      "application/vnd.jupyter.widget-view+json": {
       "model_id": "d6eadaac7df5444a942da1d075131fe9",
       "version_major": 2,
       "version_minor": 0
      },
      "text/plain": [
       "Renderer(camera=PerspectiveCamera(children=(DirectionalLight(color='white', intensity=0.6, position=(-0.016840…"
      ]
     },
     "metadata": {},
     "output_type": "display_data"
    },
    {
     "data": {
      "text/plain": [
       "<meshplot.Viewer.Viewer at 0x7fb1789f8fd0>"
      ]
     },
     "execution_count": 74,
     "metadata": {},
     "output_type": "execute_result"
    }
   ],
   "source": [
    "plot(v, f)"
   ]
  },
  {
   "cell_type": "markdown",
   "id": "badaaf57",
   "metadata": {},
   "source": [
    "### Mesh Decimation\n",
    "\n",
    "Given a high resolution mesh with too many triangles, find a “well approximating” low resolution mesh with far fewer triangles. One family of mesh decimation methods operates by successively remove elements from the mesh. In particular, Hoppe advocates for successively remove or rather collapsing edges. \n",
    "![alt text](https://www.intel.com/content/dam/develop/external/us/en/images/23792-figure1-165263.gif)"
   ]
  },
  {
   "cell_type": "code",
   "execution_count": 70,
   "id": "38844a12",
   "metadata": {},
   "outputs": [],
   "source": [
    "v, f = igl.read_triangle_mesh('./bunny.obj')\n"
   ]
  },
  {
   "cell_type": "code",
   "execution_count": 72,
   "id": "3dbb57ba",
   "metadata": {},
   "outputs": [
    {
     "data": {
      "text/plain": [
       "((34834, 3), (69451, 3))"
      ]
     },
     "execution_count": 72,
     "metadata": {},
     "output_type": "execute_result"
    }
   ],
   "source": [
    "v.shape, f.shape"
   ]
  },
  {
   "cell_type": "code",
   "execution_count": 75,
   "id": "4fd33c26",
   "metadata": {
    "scrolled": false
   },
   "outputs": [
    {
     "name": "stdout",
     "output_type": "stream",
     "text": [
      "(34834, 3) (69451, 3)\n",
      "(999, 3) (999, 3)\n"
     ]
    },
    {
     "data": {
      "application/vnd.jupyter.widget-view+json": {
       "model_id": "9ef8424982254204b8c9afb77ec92a33",
       "version_major": 2,
       "version_minor": 0
      },
      "text/plain": [
       "Renderer(camera=PerspectiveCamera(children=(DirectionalLight(color='white', intensity=0.6, position=(-0.016663…"
      ]
     },
     "metadata": {},
     "output_type": "display_data"
    },
    {
     "data": {
      "text/plain": [
       "<meshplot.Viewer.Viewer at 0x7fb17877fe10>"
      ]
     },
     "execution_count": 75,
     "metadata": {},
     "output_type": "execute_result"
    }
   ],
   "source": [
    "print(v.shape,f.shape)\n",
    "_,v_,f_,_,_ = igl.decimate(v,f, 1000)\n",
    "angles = igl.internal_angles(v_,f_)\n",
    "print(angles.shape, f_.shape)\n",
    "plot(v_, f_, angles)"
   ]
  },
  {
   "cell_type": "markdown",
   "id": "288b2cae",
   "metadata": {},
   "source": [
    "### Mesh Subdivision\n",
    "Given a coarse mesh (aka cage) with vertices V and faces F, one can create a higher-resolution mesh with more vertices and faces by subdividing every face. That is, each coarse triangle in the input is replaced by many smaller triangle. <br>\n",
    "\n",
    "\n",
    "#### \"igl.upsample\"\n",
    "adds new vertices at the midpoint of the edges. Each resutling triangle thus is split into four triangles.\n",
    "#### \"igl.loop\"\n",
    "computes the weight combinations of vertex neighbours and moves the vertices of the mesh to those locations, while performing smoothing as it is refined. The combinatronics are the same as upsample however smoothing results in convergence to a C1 surface. \n",
    "\n",
    "#### \"in\" plane\n",
    "\n",
    "This method will not change the point set or carrier surface of the mesh, new vertices are added on the planes of existing triangles and vertices surviving from original mesh are not removed.Thus, the combinatronics of the mesh are changed. This is done using the \"subdivision\" rule."
   ]
  },
  {
   "cell_type": "markdown",
   "id": "95ccc17d",
   "metadata": {},
   "source": [
    "![barycenter](data:image/png;base64,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)"
   ]
  },
  {
   "cell_type": "code",
   "execution_count": 78,
   "id": "821efc86",
   "metadata": {
    "scrolled": false
   },
   "outputs": [
    {
     "data": {
      "application/vnd.jupyter.widget-view+json": {
       "model_id": "46646cffe782411eafa61ad5eb5da625",
       "version_major": 2,
       "version_minor": 0
      },
      "text/plain": [
       "Renderer(camera=PerspectiveCamera(children=(DirectionalLight(color='white', intensity=0.6, position=(-0.016840…"
      ]
     },
     "metadata": {},
     "output_type": "display_data"
    },
    {
     "data": {
      "application/vnd.jupyter.widget-view+json": {
       "model_id": "cf499a9649464a29b8c78dbf2abb54ac",
       "version_major": 2,
       "version_minor": 0
      },
      "text/plain": [
       "Renderer(camera=PerspectiveCamera(children=(DirectionalLight(color='white', intensity=0.6, position=(-0.016663…"
      ]
     },
     "metadata": {},
     "output_type": "display_data"
    },
    {
     "data": {
      "application/vnd.jupyter.widget-view+json": {
       "model_id": "94dd3e365c76440f870e606069c61c14",
       "version_major": 2,
       "version_minor": 0
      },
      "text/plain": [
       "Renderer(camera=PerspectiveCamera(children=(DirectionalLight(color='white', intensity=0.6, position=(-0.016973…"
      ]
     },
     "metadata": {},
     "output_type": "display_data"
    },
    {
     "data": {
      "application/vnd.jupyter.widget-view+json": {
       "model_id": "39590c155f6441d1a16727cf831c4caf",
       "version_major": 2,
       "version_minor": 0
      },
      "text/plain": [
       "Renderer(camera=PerspectiveCamera(children=(DirectionalLight(color='white', intensity=0.6, position=(-0.016663…"
      ]
     },
     "metadata": {},
     "output_type": "display_data"
    },
    {
     "data": {
      "text/plain": [
       "<meshplot.Viewer.Viewer at 0x7fb178a18be0>"
      ]
     },
     "execution_count": 78,
     "metadata": {},
     "output_type": "execute_result"
    }
   ],
   "source": [
    "uv, uf = igl.upsample(v_, f_)\n",
    "lv, lf = igl.loop(v_, f_)\n",
    "fv, ff = igl.false_barycentric_subdivision(v_, f_)\n",
    "ia_l = igl.internal_angles(lv, lf)\n",
    "ia_u = igl.internal_angles(uv, uf)\n",
    "ia_f = igl.internal_angles(fv, ff)\n",
    "plot(v, f,  shading={\"wireframe\": True})\n",
    "plot(uv, uf, ia_l )\n",
    "plot(lv, lf, ia_u )\n",
    "plot(fv, ff, ia_f )"
   ]
  },
  {
   "cell_type": "markdown",
   "id": "dd8b3a28",
   "metadata": {},
   "source": [
    "### Delaunay Triangulation"
   ]
  },
  {
   "cell_type": "code",
   "execution_count": 11,
   "id": "c15d95ad",
   "metadata": {},
   "outputs": [
    {
     "name": "stdout",
     "output_type": "stream",
     "text": [
      "[[2 3 0]\n",
      " [3 1 0]]\n"
     ]
    }
   ],
   "source": [
    "from scipy.spatial import Delaunay\n",
    "points = np.array([[0, 0], [0, 1.1], [1, 0], [1, 1]])\n",
    "                    # 0    #1          #2        #3\n",
    "tri = Delaunay(points)\n",
    "print(tri.simplices)"
   ]
  },
  {
   "cell_type": "code",
   "execution_count": 12,
   "id": "705e150b",
   "metadata": {},
   "outputs": [
    {
     "data": {
      "text/plain": [
       "array([[2, 3, 0],\n",
       "       [3, 1, 0]], dtype=int32)"
      ]
     },
     "execution_count": 12,
     "metadata": {},
     "output_type": "execute_result"
    }
   ],
   "source": [
    "tri.simplices"
   ]
  },
  {
   "cell_type": "markdown",
   "id": "aac2dc53",
   "metadata": {},
   "source": [
    "### in 2D"
   ]
  },
  {
   "cell_type": "code",
   "execution_count": 13,
   "id": "7305718a",
   "metadata": {},
   "outputs": [],
   "source": [
    "import matplotlib.pyplot as plt\n",
    "from mpl_toolkits.mplot3d import Axes3D"
   ]
  },
  {
   "cell_type": "code",
   "execution_count": 79,
   "id": "78b2dcab",
   "metadata": {},
   "outputs": [],
   "source": [
    "plot?"
   ]
  },
  {
   "cell_type": "code",
   "execution_count": 14,
   "id": "3caa022c",
   "metadata": {},
   "outputs": [
    {
     "data": {
      "image/png": "[encoded data removed]",
      "text/plain": [
       "<Figure size 432x288 with 1 Axes>"
      ]
     },
     "metadata": {
      "needs_background": "light"
     },
     "output_type": "display_data"
    }
   ],
   "source": [
    "\n",
    "plt.triplot(points[:,0], points[:,1], tri.simplices)\n",
    "plt.plot(points[:,0], points[:,1], 'o')\n",
    "plt.show()"
   ]
  },
  {
   "cell_type": "markdown",
   "id": "59cc5e85",
   "metadata": {},
   "source": [
    "### in 3d"
   ]
  },
  {
   "cell_type": "code",
   "execution_count": 80,
   "id": "a08fb110",
   "metadata": {},
   "outputs": [],
   "source": [
    "# u,v parameterisation variables\n",
    "u = np.array([0,0,0.5,1,1]) \n",
    "v = np.array([0,1,0.5,0,1]) \n",
    "\n",
    "x = u\n",
    "y = v\n",
    "z = np.array([0,0,1,0,0])\n",
    "\n",
    "tri = Delaunay(np.array([u,v]).T)\n"
   ]
  },
  {
   "cell_type": "code",
   "execution_count": 16,
   "id": "b4baea53",
   "metadata": {},
   "outputs": [
    {
     "data": {
      "image/png": "[encoded data removed]",
      "text/plain": [
       "<Figure size 432x288 with 1 Axes>"
      ]
     },
     "metadata": {
      "needs_background": "light"
     },
     "output_type": "display_data"
    }
   ],
   "source": [
    "fig = plt.figure()\n",
    "ax = fig.add_subplot(1, 1, 1, projection='3d')\n",
    "ax.plot_trisurf(x, y, z, triangles=tri.simplices, cmap=plt.cm.Spectral)\n",
    "plt.show()"
   ]
  },
  {
   "cell_type": "markdown",
   "id": "87ac237b",
   "metadata": {},
   "source": [
    "### Remeshing\n",
    "!pip install meshio <br>\n",
    "https://www.cgal.org/ <br>\n",
    "https://www.meshlab.net/"
   ]
  },
  {
   "cell_type": "code",
   "execution_count": 17,
   "id": "2d1c8a42",
   "metadata": {},
   "outputs": [],
   "source": [
    "import pygalmesh\n",
    "import meshio"
   ]
  },
  {
   "cell_type": "code",
   "execution_count": 81,
   "id": "e177dc05",
   "metadata": {},
   "outputs": [],
   "source": [
    "mesh = pygalmesh.remesh_surface(\n",
    "    \"bunny.obj\",\n",
    "    max_edge_size_at_feature_edges=0.0025,\n",
    "    min_facet_angle=25,\n",
    "    max_radius_surface_delaunay_ball=0.1,\n",
    "    max_facet_distance=0.001,\n",
    "    verbose=True,\n",
    ")"
   ]
  },
  {
   "cell_type": "code",
   "execution_count": 82,
   "id": "d71506da",
   "metadata": {},
   "outputs": [],
   "source": [
    "meshio.write('bunny_remesh.obj', mesh)"
   ]
  },
  {
   "cell_type": "code",
   "execution_count": 83,
   "id": "34848ddc",
   "metadata": {},
   "outputs": [],
   "source": [
    "v,f = igl.read_triangle_mesh('./bunny.obj')\n",
    "v2,f2 = igl.read_triangle_mesh('./bunny_remesh.obj')"
   ]
  },
  {
   "cell_type": "code",
   "execution_count": 84,
   "id": "402f170a",
   "metadata": {},
   "outputs": [
    {
     "data": {
      "application/vnd.jupyter.widget-view+json": {
       "model_id": "8b4ff3066f934c6b9d5999c9f66c1a3b",
       "version_major": 2,
       "version_minor": 0
      },
      "text/plain": [
       "Renderer(camera=PerspectiveCamera(children=(DirectionalLight(color='white', intensity=0.6, position=(-0.016840…"
      ]
     },
     "metadata": {},
     "output_type": "display_data"
    },
    {
     "data": {
      "application/vnd.jupyter.widget-view+json": {
       "model_id": "df06a10fee764c3088567adf9bbedf6d",
       "version_major": 2,
       "version_minor": 0
      },
      "text/plain": [
       "Renderer(camera=PerspectiveCamera(children=(DirectionalLight(color='white', intensity=0.6, position=(-0.016726…"
      ]
     },
     "metadata": {},
     "output_type": "display_data"
    },
    {
     "data": {
      "text/plain": [
       "<meshplot.Viewer.Viewer at 0x7fb181c46f98>"
      ]
     },
     "execution_count": 84,
     "metadata": {},
     "output_type": "execute_result"
    }
   ],
   "source": [
    "plot(v,f)\n",
    "plot(v2, f2)"
   ]
  },
  {
   "cell_type": "code",
   "execution_count": 85,
   "id": "fce35467",
   "metadata": {},
   "outputs": [
    {
     "name": "stdout",
     "output_type": "stream",
     "text": [
      "Total vertices :  34834\n",
      "Irregular vertices  no :  3147 9.03%\n",
      "Area average: 5.697847766042785e-06 Min:1.8044666802109844e-12 Max:0.00012397079397837317 Sigma:2.261048632168552\n"
     ]
    }
   ],
   "source": [
    "irregular = igl.is_irregular_vertex(v2,f2)\n",
    "v_count = v.shape[0]\n",
    "irregular_v_count = np.sum(irregular)\n",
    "irregular_ratio = irregular_v_count / v_count\n",
    "print('Total vertices : ', v_count)\n",
    "print('Irregular vertices  no :  {} {:.2f}%'.format(irregular_v_count, (irregular_ratio * 100.)))\n",
    "\n",
    "area = igl.doublearea(v2,f2) /2.0 # igl.doublearea computes twice the area for each input triangle\n",
    "area_avg = np.mean(area)\n",
    "area_min = np.min(area)\n",
    "area_max = np.max(area)\n",
    "area_ns = (area - area_avg) / area_avg\n",
    "area_sigma = np.sqrt(np.mean(np.square(area_ns)))\n",
    "print('Area average: {} Min:{} Max:{} Sigma:{}'.format(area_avg, area_min, area_max, area_sigma))"
   ]
  },
  {
   "cell_type": "markdown",
   "id": "283469e0",
   "metadata": {},
   "source": [
    "## Tetgen"
   ]
  },
  {
   "cell_type": "code",
   "execution_count": 23,
   "id": "3be4a53d",
   "metadata": {},
   "outputs": [],
   "source": [
    "import pyvista as pv\n",
    "import tetgen\n",
    "import numpy as np"
   ]
  },
  {
   "cell_type": "code",
   "execution_count": 24,
   "id": "5a3a2482",
   "metadata": {},
   "outputs": [
    {
     "name": "stdout",
     "output_type": "stream",
     "text": [
      "Object `sphere.verts` not found.\n"
     ]
    }
   ],
   "source": [
    "sphere.verts?"
   ]
  },
  {
   "cell_type": "code",
   "execution_count": 25,
   "id": "81cb0bf8",
   "metadata": {},
   "outputs": [
    {
     "data": {
      "application/vnd.jupyter.widget-view+json": {
       "model_id": "f2ff82369a6f414f845bf2d3c11a5438",
       "version_major": 2,
       "version_minor": 0
      },
      "text/plain": [
       "ViewInteractiveWidget(height=768, layout=Layout(height='auto', width='100%'), width=1024)"
      ]
     },
     "metadata": {},
     "output_type": "display_data"
    }
   ],
   "source": [
    "sphere = pv.Sphere()\n",
    "tet = tetgen.TetGen(sphere)\n",
    "vv, tt = tet.tetrahedralize(order=1, mindihedral=20, minratio=1.5)\n",
    "grid = tet.grid\n",
    "grid.plot(show_edges=True)"
   ]
  },
  {
   "cell_type": "code",
   "execution_count": 26,
   "id": "491f0cd3",
   "metadata": {},
   "outputs": [
    {
     "data": {
      "text/plain": [
       "((3298, 3), (17634, 4))"
      ]
     },
     "execution_count": 26,
     "metadata": {},
     "output_type": "execute_result"
    }
   ],
   "source": [
    "vv.shape, tt.shape"
   ]
  },
  {
   "cell_type": "code",
   "execution_count": 27,
   "id": "531b46e0",
   "metadata": {},
   "outputs": [
    {
     "data": {
      "text/plain": [
       "(88170,)"
      ]
     },
     "execution_count": 27,
     "metadata": {},
     "output_type": "execute_result"
    }
   ],
   "source": [
    "grid.cells.shape"
   ]
  },
  {
   "cell_type": "code",
   "execution_count": 28,
   "id": "86a61552",
   "metadata": {},
   "outputs": [
    {
     "name": "stdout",
     "output_type": "stream",
     "text": [
      "(17634, 4)\n"
     ]
    }
   ],
   "source": [
    "cells = grid.cells.reshape(-1, 5)[:, 1:]\n",
    "print(cells.shape)"
   ]
  },
  {
   "cell_type": "code",
   "execution_count": 29,
   "id": "a20eed0d",
   "metadata": {},
   "outputs": [
    {
     "data": {
      "text/plain": [
       "(2240, 3)"
      ]
     },
     "execution_count": 29,
     "metadata": {},
     "output_type": "execute_result"
    }
   ],
   "source": [
    "sphere_mesh = tet.mesh\n",
    "faces_sphere = sphere_mesh.faces.reshape(-1, 3)\n",
    "faces_sphere.shape"
   ]
  },
  {
   "cell_type": "code",
   "execution_count": 30,
   "id": "0c657f8a",
   "metadata": {},
   "outputs": [],
   "source": [
    "\n",
    "verts_sphere = sphere_mesh.points\n",
    "# faces_sphere = sphere_mesh.faces "
   ]
  },
  {
   "cell_type": "code",
   "execution_count": 31,
   "id": "9c8a26b9",
   "metadata": {
    "scrolled": true
   },
   "outputs": [
    {
     "data": {
      "text/plain": [
       "((842, 3), (2240, 3))"
      ]
     },
     "execution_count": 31,
     "metadata": {},
     "output_type": "execute_result"
    }
   ],
   "source": [
    "verts_sphere.shape, faces_sphere.shape"
   ]
  },
  {
   "cell_type": "code",
   "execution_count": 32,
   "id": "cf7163b4",
   "metadata": {},
   "outputs": [],
   "source": [
    "v = verts_sphere.copy()\n",
    "f = faces_sphere.copy()"
   ]
  },
  {
   "cell_type": "code",
   "execution_count": 33,
   "id": "709fcd5f",
   "metadata": {},
   "outputs": [],
   "source": [
    "import igl\n",
    "from meshplot import plot, subplot, interact"
   ]
  },
  {
   "cell_type": "code",
   "execution_count": 34,
   "id": "ad445842",
   "metadata": {},
   "outputs": [],
   "source": [
    "v,t,f = igl.read_mesh('bunny.mesh')"
   ]
  },
  {
   "cell_type": "code",
   "execution_count": 35,
   "id": "ec17a8e8",
   "metadata": {},
   "outputs": [
    {
     "data": {
      "application/vnd.jupyter.widget-view+json": {
       "model_id": "bbfb0a05740d47ff99e1f8f850507824",
       "version_major": 2,
       "version_minor": 0
      },
      "text/plain": [
       "Renderer(camera=PerspectiveCamera(children=(DirectionalLight(color='white', intensity=0.6, position=(-0.016860…"
      ]
     },
     "metadata": {},
     "output_type": "display_data"
    },
    {
     "data": {
      "text/plain": [
       "<meshplot.Viewer.Viewer at 0x7fb184660b38>"
      ]
     },
     "execution_count": 35,
     "metadata": {},
     "output_type": "execute_result"
    }
   ],
   "source": [
    "plot(v,f)"
   ]
  },
  {
   "cell_type": "code",
   "execution_count": 36,
   "id": "368eecbf",
   "metadata": {},
   "outputs": [],
   "source": [
    "v1 = 0\n",
    "v2 = 1\n",
    "v3 = 2\n",
    "v4 = 3\n",
    "v5 = 4\n",
    "v6 = 5\n",
    "v7 = 6\n",
    "v8 = 7\n",
    "\n",
    "bbox_tri = np.array([[v1, v2, v5], [v2, v5, v6], [v2, v3, v6], \\\n",
    "                [v6, v7, v3], [v3, v7, v8], [v8, v4, v3], [v4, v8, v5],\\\n",
    "               [v5, v4, v1], [v5, v6, v8], [v8, v6, v7], [v2, v4, v1], [v2, v4, v3]\n",
    "               ])\n",
    "\n",
    "zmin = v[:,-1].min() + 0.1 * v[:,-1].min()\n",
    "zmax = v[:,-1].max() + 0.1 * v[:,-1].max()\n",
    "ymin = v[:,-2].min() + 0.1 * v[:,-2].min() \n",
    "ymax = v[:, -2].max() + 0.1 * v[:, -2].max() \n",
    "xmin = v[:, -3].min() + 0.1 * v[:, -3].min() \n",
    "xmax = v[:, -3].max() + v[:, -3].max()\n",
    "\n",
    "bbox_verts = np.array([[xmin, ymin, zmax],[xmax,ymin,zmax],[xmax, ymin, zmin],\\\n",
    "              [xmin, ymin, zmin], [xmin, ymax, zmax], [xmax, ymax, zmax],\\\n",
    "              [xmax, ymax, zmin], [xmin, ymax, zmin]])\n"
   ]
  },
  {
   "cell_type": "code",
   "execution_count": 37,
   "id": "e2e85d93",
   "metadata": {},
   "outputs": [],
   "source": [
    "v_new = np.concatenate([v, bbox_verts], 0)\n",
    "f_new = np.concatenate([f, bbox_tri+len(v)],0)"
   ]
  },
  {
   "cell_type": "code",
   "execution_count": 38,
   "id": "6b687774",
   "metadata": {},
   "outputs": [
    {
     "data": {
      "application/vnd.jupyter.widget-view+json": {
       "model_id": "ea9ec6a2c903446e88bee7470157540c",
       "version_major": 2,
       "version_minor": 0
      },
      "text/plain": [
       "Renderer(camera=PerspectiveCamera(children=(DirectionalLight(color='white', intensity=0.6, position=(0.0089205…"
      ]
     },
     "metadata": {},
     "output_type": "display_data"
    },
    {
     "data": {
      "text/plain": [
       "<meshplot.Viewer.Viewer at 0x7fb1fcb69278>"
      ]
     },
     "execution_count": 38,
     "metadata": {},
     "output_type": "execute_result"
    }
   ],
   "source": [
    "plot(v_new, f_new)"
   ]
  },
  {
   "cell_type": "code",
   "execution_count": 39,
   "id": "9eada13b",
   "metadata": {},
   "outputs": [],
   "source": [
    "import tetgen"
   ]
  },
  {
   "cell_type": "code",
   "execution_count": 40,
   "id": "10ba8571",
   "metadata": {},
   "outputs": [
    {
     "data": {
      "application/vnd.jupyter.widget-view+json": {
       "model_id": "9617cb7c9c634b5384e6ce0e0f3cb34c",
       "version_major": 2,
       "version_minor": 0
      },
      "text/plain": [
       "Renderer(camera=PerspectiveCamera(children=(DirectionalLight(color='white', intensity=0.6, position=(-0.016860…"
      ]
     },
     "metadata": {},
     "output_type": "display_data"
    },
    {
     "data": {
      "application/vnd.jupyter.widget-view+json": {
       "model_id": "f560e4c75d57426b98cb4a4fab6565d8",
       "version_major": 2,
       "version_minor": 0
      },
      "text/plain": [
       "ViewInteractiveWidget(height=768, layout=Layout(height='auto', width='100%'), width=1024)"
      ]
     },
     "metadata": {},
     "output_type": "display_data"
    }
   ],
   "source": [
    "v,t,f = igl.read_mesh('bunny.mesh')\n",
    "plot(v,f)\n",
    "tet = tetgen.TetGen(v, f)\n",
    "tet.make_manifold()\n",
    "vv, tt = tet.tetrahedralize( mindihedral=2, minratio=1.5, verbose=2)\n",
    "grid = tet.grid\n",
    "grid.plot(show_edges=True)"
   ]
  },
  {
   "cell_type": "code",
   "execution_count": 41,
   "id": "66295b72",
   "metadata": {},
   "outputs": [],
   "source": [
    "import pyvista as pv\n",
    "import numpy as np\n",
    "import matplotlib.pyplot as plt\n",
    "from mpl_toolkits.mplot3d.art3d import Poly3DCollection\n",
    "\n",
    "from skimage import measure\n",
    "from skimage.draw import ellipsoid"
   ]
  },
  {
   "cell_type": "code",
   "execution_count": 42,
   "id": "12ec3a67",
   "metadata": {},
   "outputs": [],
   "source": [
    "\n",
    "\n",
    "\n",
    "# Generate a level set about zero of two identical ellipsoids in 3D\n",
    "ellip_base = ellipsoid(6, 10, 16, levelset=True)\n",
    "ellip_double = np.concatenate((ellip_base[:-1, ...],\n",
    "                               ellip_base[2:, ...]), axis=0)"
   ]
  },
  {
   "cell_type": "code",
   "execution_count": 43,
   "id": "29186967",
   "metadata": {},
   "outputs": [
    {
     "data": {
      "text/plain": [
       "(15, 23, 35)"
      ]
     },
     "execution_count": 43,
     "metadata": {},
     "output_type": "execute_result"
    }
   ],
   "source": [
    "ellip_base.shape"
   ]
  },
  {
   "cell_type": "code",
   "execution_count": 44,
   "id": "c2570b0b",
   "metadata": {},
   "outputs": [
    {
     "data": {
      "text/plain": [
       "(27, 23, 35)"
      ]
     },
     "execution_count": 44,
     "metadata": {},
     "output_type": "execute_result"
    }
   ],
   "source": [
    "ellip_double.shape"
   ]
  },
  {
   "cell_type": "code",
   "execution_count": 45,
   "id": "e0e5996b",
   "metadata": {
    "scrolled": false
   },
   "outputs": [
    {
     "name": "stdout",
     "output_type": "stream",
     "text": [
      "Requirement already satisfied: seaborn in /home/thor/anaconda3/envs/iglenv/lib/python3.6/site-packages (0.11.1)\n",
      "Requirement already satisfied: pandas>=0.23 in /home/thor/anaconda3/envs/iglenv/lib/python3.6/site-packages (from seaborn) (1.1.5)\n",
      "Requirement already satisfied: numpy>=1.15 in /home/thor/anaconda3/envs/iglenv/lib/python3.6/site-packages (from seaborn) (1.19.4)\n",
      "Requirement already satisfied: scipy>=1.0 in /home/thor/anaconda3/envs/iglenv/lib/python3.6/site-packages (from seaborn) (1.5.3)\n",
      "Requirement already satisfied: matplotlib>=2.2 in /home/thor/anaconda3/envs/iglenv/lib/python3.6/site-packages (from seaborn) (3.3.4)\n",
      "Requirement already satisfied: pillow>=6.2.0 in /home/thor/anaconda3/envs/iglenv/lib/python3.6/site-packages (from matplotlib>=2.2->seaborn) (8.2.0)\n",
      "Requirement already satisfied: python-dateutil>=2.1 in /home/thor/anaconda3/envs/iglenv/lib/python3.6/site-packages (from matplotlib>=2.2->seaborn) (2.8.1)\n",
      "Requirement already satisfied: kiwisolver>=1.0.1 in /home/thor/anaconda3/envs/iglenv/lib/python3.6/site-packages (from matplotlib>=2.2->seaborn) (1.3.1)\n",
      "Requirement already satisfied: cycler>=0.10 in /home/thor/anaconda3/envs/iglenv/lib/python3.6/site-packages (from matplotlib>=2.2->seaborn) (0.10.0)\n",
      "Requirement already satisfied: pyparsing!=2.0.4,!=2.1.2,!=2.1.6,>=2.0.3 in /home/thor/anaconda3/envs/iglenv/lib/python3.6/site-packages (from matplotlib>=2.2->seaborn) (2.4.7)\n",
      "Requirement already satisfied: six in /home/thor/.local/lib/python3.6/site-packages (from cycler>=0.10->matplotlib>=2.2->seaborn) (1.15.0)\n",
      "Requirement already satisfied: pytz>=2017.2 in /home/thor/anaconda3/envs/iglenv/lib/python3.6/site-packages (from pandas>=0.23->seaborn) (2021.1)\n"
     ]
    }
   ],
   "source": [
    "!pip install seaborn"
   ]
  },
  {
   "cell_type": "code",
   "execution_count": 46,
   "id": "a4f7fc79",
   "metadata": {},
   "outputs": [],
   "source": [
    "import numpy as np\n",
    "import seaborn as sns\n",
    "import matplotlib.pylab as plt"
   ]
  },
  {
   "cell_type": "code",
   "execution_count": 47,
   "id": "03d000a1",
   "metadata": {},
   "outputs": [
    {
     "data": {
      "image/png": "[encoded data removed]",
      "text/plain": [
       "<Figure size 432x288 with 2 Axes>"
      ]
     },
     "metadata": {
      "needs_background": "light"
     },
     "output_type": "display_data"
    }
   ],
   "source": [
    "ax = sns.heatmap(ellip_base[0], linewidth=0.5)\n",
    "plt.show()"
   ]
  },
  {
   "cell_type": "markdown",
   "id": "bac2c608",
   "metadata": {},
   "source": [
    "- break bounding box into grid\n",
    "- record every voxel center\n",
    "- compute distance voxel center from mesh\n",
    "- marching on voxel grid"
   ]
  },
  {
   "cell_type": "code",
   "execution_count": 48,
   "id": "11defe09",
   "metadata": {
    "scrolled": true
   },
   "outputs": [
    {
     "data": {
      "text/plain": [
       "array([[-0.10423391,  0.03628614,  0.06471388],\n",
       "       [ 0.122075  ,  0.03628614,  0.06471388],\n",
       "       [ 0.122075  ,  0.03628614, -0.06815754],\n",
       "       [-0.10423391,  0.03628614, -0.06815754],\n",
       "       [-0.10423391,  0.2060993 ,  0.06471388],\n",
       "       [ 0.122075  ,  0.2060993 ,  0.06471388],\n",
       "       [ 0.122075  ,  0.2060993 , -0.06815754],\n",
       "       [-0.10423391,  0.2060993 , -0.06815754]])"
      ]
     },
     "execution_count": 48,
     "metadata": {},
     "output_type": "execute_result"
    }
   ],
   "source": [
    "bbox_verts"
   ]
  },
  {
   "cell_type": "code",
   "execution_count": 49,
   "id": "13f5fa05",
   "metadata": {},
   "outputs": [],
   "source": [
    "bounds = np.array([[xmin, ymin, zmin], [xmax, ymax, zmax]])"
   ]
  },
  {
   "cell_type": "markdown",
   "id": "b3ad0f6b",
   "metadata": {},
   "source": [
    "### Marching Cube method"
   ]
  },
  {
   "cell_type": "code",
   "execution_count": 50,
   "id": "44885adb",
   "metadata": {},
   "outputs": [],
   "source": [
    "import numpy as np\n",
    "import matplotlib.pyplot as plt\n",
    "import igl\n",
    "from meshplot import plot"
   ]
  },
  {
   "cell_type": "code",
   "execution_count": 51,
   "id": "d9998a53",
   "metadata": {},
   "outputs": [],
   "source": [
    "def get_cube(x,y,z,delta):\n",
    "#     print(x,y,z,delta)\n",
    "    return np.array([[x+delta, y+delta, z], [x+delta, y, z], [x, y, z], [x, y+delta,z],\\\n",
    "        [x, y+delta, z+delta], [x,y,z+delta], [x+delta, y+delta, z+delta],[x+delta,y,z+delta]])"
   ]
  },
  {
   "cell_type": "code",
   "execution_count": 52,
   "id": "87fbadd4",
   "metadata": {},
   "outputs": [],
   "source": [
    "# grid coords (x+delx, y+dely, z), (back top right)\n",
    "# (x+delx, y, z) back bottom right\n",
    "# (x, y, z) back bottom left\n",
    "# (x, y+dely, z) back left top\n",
    "\n",
    "# (x, y+dely, z+delz) front top left\n",
    "# (x, y, z+delz) front bottom left\n",
    "# (x+delx, y, z+delz) front bottom right\n",
    "\n",
    "def create_grid( bounds, delta=.1):\n",
    "    min_bounds = bounds[0]\n",
    "    max_bounds = bounds[1]\n",
    "    x_b = round((max_bounds[0] - min_bounds[0])/delta+1)\n",
    "    y_b = round((max_bounds[1] - min_bounds[1])/delta+1)\n",
    "    z_b = round((max_bounds[2] - min_bounds[2])/delta+1)\n",
    "    grid_cells = []\n",
    "    centers = []\n",
    "    points  = []\n",
    "\n",
    "#     print(bounds)\n",
    "    for i in range(x_b):\n",
    "        for j in range(y_b):\n",
    "            for k in range(z_b):\n",
    "                x = min_bounds[0] + i * delta\n",
    "                y = min_bounds[1] + j * delta\n",
    "                z = min_bounds[2] + k * delta\n",
    "                points.append([x,y,z])\n",
    "                grid_cube = get_cube(x,y,z,delta)\n",
    "                center = grid_cube.mean(0)\n",
    "                centers.append(center)\n",
    "                grid_cells.append(grid_cube)\n",
    "    \n",
    "    return np.array(grid_cells), np.array(centers), np.array(points),[x_b,y_b,z_b]"
   ]
  },
  {
   "cell_type": "code",
   "execution_count": 53,
   "id": "0f68adff",
   "metadata": {},
   "outputs": [
    {
     "name": "stdout",
     "output_type": "stream",
     "text": [
      "(9261, 8, 3) (9261, 3) (9261, 3)\n"
     ]
    }
   ],
   "source": [
    "bounds = np.array([[0., 0., 0.], [2., 2., 2.]])\n",
    "grid_cells,centers,points,sizes = create_grid(bounds)\n",
    "print(grid_cells.shape, centers.shape, points.shape)"
   ]
  },
  {
   "cell_type": "code",
   "execution_count": 54,
   "id": "30ed32b7",
   "metadata": {},
   "outputs": [],
   "source": [
    "v,t,f = igl.read_mesh('bunny.mesh')\n",
    "\n",
    "zmin = v[:,-1].min() + 0.1 * v[:,-1].min()\n",
    "zmax = v[:,-1].max() + 0.1 * v[:,-1].max()\n",
    "ymin = v[:,-2].min() + 0.1 * v[:,-2].min() \n",
    "ymax = v[:, -2].max() + 0.1 * v[:, -2].max() \n",
    "xmin = v[:, -3].min() + 0.1 * v[:, -3].min() \n",
    "xmax = v[:, -3].max() + v[:, -3].max()"
   ]
  },
  {
   "cell_type": "code",
   "execution_count": null,
   "id": "1fa3ed17",
   "metadata": {},
   "outputs": [],
   "source": []
  },
  {
   "cell_type": "code",
   "execution_count": 55,
   "id": "8f2c6346",
   "metadata": {},
   "outputs": [],
   "source": [
    "bounds = np.array([[xmin, ymin, zmin], [xmax, ymax, zmax]]) # bounds for bunny\n",
    "grid_cells,centers,points,sizes = create_grid(bounds,delta=0.006)"
   ]
  },
  {
   "cell_type": "code",
   "execution_count": 56,
   "id": "76bbb528",
   "metadata": {},
   "outputs": [
    {
     "data": {
      "text/plain": [
       "((26013, 3), (26013, 8, 3), (26013, 3))"
      ]
     },
     "execution_count": 56,
     "metadata": {},
     "output_type": "execute_result"
    }
   ],
   "source": [
    "centers.shape, grid_cells.shape, points.shape"
   ]
  },
  {
   "cell_type": "code",
   "execution_count": 57,
   "id": "93283481",
   "metadata": {},
   "outputs": [],
   "source": [
    "d = igl.signed_distance(centers, v, f)"
   ]
  },
  {
   "cell_type": "code",
   "execution_count": 58,
   "id": "198e4927",
   "metadata": {},
   "outputs": [
    {
     "data": {
      "text/plain": [
       "(26013, 3)"
      ]
     },
     "execution_count": 58,
     "metadata": {},
     "output_type": "execute_result"
    }
   ],
   "source": [
    "centers.shape"
   ]
  },
  {
   "cell_type": "code",
   "execution_count": 59,
   "id": "5a8a42ac",
   "metadata": {},
   "outputs": [],
   "source": [
    "c_reshape = d[0].reshape((sizes[0],sizes[1],sizes[2]))"
   ]
  },
  {
   "cell_type": "code",
   "execution_count": 60,
   "id": "4dd4be3b",
   "metadata": {},
   "outputs": [
    {
     "data": {
      "text/plain": [
       "(39, 29, 23)"
      ]
     },
     "execution_count": 60,
     "metadata": {},
     "output_type": "execute_result"
    }
   ],
   "source": [
    "c_reshape.shape"
   ]
  },
  {
   "cell_type": "code",
   "execution_count": 61,
   "id": "3f97f3d2",
   "metadata": {},
   "outputs": [
    {
     "data": {
      "text/plain": [
       "<matplotlib.image.AxesImage at 0x7fb178a96438>"
      ]
     },
     "execution_count": 61,
     "metadata": {},
     "output_type": "execute_result"
    },
    {
     "data": {
      "image/png": "[encoded data removed]",
      "text/plain": [
       "<Figure size 720x720 with 1 Axes>"
      ]
     },
     "metadata": {
      "needs_background": "light"
     },
     "output_type": "display_data"
    }
   ],
   "source": [
    "fig= plt.figure(figsize=(10,10))\n",
    "plt.imshow(np.rot90(c_reshape[:,:,13]))"
   ]
  },
  {
   "cell_type": "code",
   "execution_count": 62,
   "id": "93750815",
   "metadata": {},
   "outputs": [],
   "source": [
    "\n",
    "from skimage import measure"
   ]
  },
  {
   "cell_type": "code",
   "execution_count": 63,
   "id": "73d8a437",
   "metadata": {},
   "outputs": [
    {
     "data": {
      "text/plain": [
       "(-0.037797786087383475, 0.14403888503599852)"
      ]
     },
     "execution_count": 63,
     "metadata": {},
     "output_type": "execute_result"
    }
   ],
   "source": [
    "c_reshape.min(), c_reshape.max()"
   ]
  },
  {
   "cell_type": "code",
   "execution_count": 64,
   "id": "184b510f",
   "metadata": {},
   "outputs": [],
   "source": [
    "verts, faces, normals, values = measure.marching_cubes(c_reshape,0)"
   ]
  },
  {
   "cell_type": "code",
   "execution_count": 65,
   "id": "57aa4ca6",
   "metadata": {},
   "outputs": [
    {
     "data": {
      "text/plain": [
       "((2033, 3), (3990, 3))"
      ]
     },
     "execution_count": 65,
     "metadata": {},
     "output_type": "execute_result"
    }
   ],
   "source": [
    "verts.shape, faces.shape"
   ]
  },
  {
   "cell_type": "code",
   "execution_count": 66,
   "id": "82ed7fa3",
   "metadata": {},
   "outputs": [
    {
     "data": {
      "application/vnd.jupyter.widget-view+json": {
       "model_id": "f6feb8eac110467cbebeabb891be5954",
       "version_major": 2,
       "version_minor": 0
      },
      "text/plain": [
       "Renderer(camera=PerspectiveCamera(children=(DirectionalLight(color='white', intensity=0.6, position=(14.060592…"
      ]
     },
     "metadata": {},
     "output_type": "display_data"
    },
    {
     "data": {
      "text/plain": [
       "<meshplot.Viewer.Viewer at 0x7fb17a4941d0>"
      ]
     },
     "execution_count": 66,
     "metadata": {},
     "output_type": "execute_result"
    }
   ],
   "source": [
    "plot(verts, faces)"
   ]
  },
  {
   "cell_type": "code",
   "execution_count": null,
   "id": "2dc53937",
   "metadata": {},
   "outputs": [],
   "source": []
  }
 ],
 "metadata": {
  "kernelspec": {
   "display_name": "Python 3",
   "language": "python",
   "name": "python3"
  },
  "language_info": {
   "codemirror_mode": {
    "name": "ipython",
    "version": 3
   },
   "file_extension": ".py",
   "mimetype": "text/x-python",
   "name": "python",
   "nbconvert_exporter": "python",
   "pygments_lexer": "ipython3",
   "version": "3.6.13"
  }
 },
 "nbformat": 4,
 "nbformat_minor": 5
}
